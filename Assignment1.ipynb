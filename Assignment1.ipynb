{
  "nbformat": 4,
  "nbformat_minor": 0,
  "metadata": {
    "colab": {
      "provenance": [],
      "toc_visible": true,
      "include_colab_link": true
    },
    "kernelspec": {
      "name": "python3",
      "display_name": "Python 3"
    },
    "language_info": {
      "name": "python"
    }
  },
  "cells": [
    {
      "cell_type": "markdown",
      "metadata": {
        "id": "view-in-github",
        "colab_type": "text"
      },
      "source": [
        "<a href=\"https://colab.research.google.com/github/K-R-Reddy/MachineLearning/blob/main/Assignment1.ipynb\" target=\"_parent\"><img src=\"https://colab.research.google.com/assets/colab-badge.svg\" alt=\"Open In Colab\"/></a>"
      ]
    },
    {
      "cell_type": "code",
      "execution_count": null,
      "metadata": {
        "id": "JCl0GoIlBNq1"
      },
      "outputs": [],
      "source": [
        "import numpy as np"
      ]
    },
    {
      "cell_type": "markdown",
      "source": [
        "#1) Perform arithmetic operations on NumPy arrays."
      ],
      "metadata": {
        "id": "_RuDu8ciERMl"
      }
    },
    {
      "cell_type": "code",
      "source": [
        "a1=np.array([1,2,3,4,5])\n",
        "a2=np.array([6,7,8,9,10])\n",
        "print(\"Array 1 :\",a1,\"\\nArray 2 :\",a2)\n",
        "print(\"Addition :\",a1+a2)\n",
        "print(\"Subtraction :\",a1-a2)\n",
        "print(\"Multiplication :\",a1*a2)\n",
        "print(\"Division :\",a1/a2)\n",
        "print(\"Remainder :\",a1%a2)\n"
      ],
      "metadata": {
        "colab": {
          "base_uri": "https://localhost:8080/"
        },
        "id": "5zJBuRPJErVu",
        "outputId": "1cff0abc-fd96-4cf1-be85-60e31fc47e99"
      },
      "execution_count": null,
      "outputs": [
        {
          "output_type": "stream",
          "name": "stdout",
          "text": [
            "Array 1 : [1 2 3 4 5] \n",
            "Array 2 : [ 6  7  8  9 10]\n",
            "Addition : [ 7  9 11 13 15]\n",
            "Subtraction : [-5 -5 -5 -5 -5]\n",
            "Multiplication : [ 6 14 24 36 50]\n",
            "Division : [0.16666667 0.28571429 0.375      0.44444444 0.5       ]\n",
            "Remainder : [1 2 3 4 5]\n"
          ]
        }
      ]
    },
    {
      "cell_type": "markdown",
      "source": [
        "#2) Write a script to compute the mean and standard deviation of a NumPy array.\n",
        "numpy.mean(array_name) : It is used to find Mean of the array.<br>\n",
        "numpy.std(array_name) : It is used to find the Standard deviation of the array."
      ],
      "metadata": {
        "id": "czT_zMu1FWKX"
      }
    },
    {
      "cell_type": "code",
      "source": [
        "a3=np.array([1,2,3,4,5])\n",
        "m=np.mean(a3)\n",
        "s=np.std(a3)\n",
        "print(\"Array :\",a3)\n",
        "print(\"Mean :\",m)\n",
        "print(\"Standard deviation : \",s)"
      ],
      "metadata": {
        "colab": {
          "base_uri": "https://localhost:8080/"
        },
        "id": "zi_Ro-r6FoMo",
        "outputId": "798bb486-7f8d-405a-aa13-f195fcf75c2c"
      },
      "execution_count": null,
      "outputs": [
        {
          "output_type": "stream",
          "name": "stdout",
          "text": [
            "Array : [1 2 3 4 5]\n",
            "Mean : 3.0\n",
            "Standard deviation :  1.4142135623730951\n"
          ]
        }
      ]
    },
    {
      "cell_type": "markdown",
      "source": [
        "#3) Create a NumPy array of integers from 10 to 50 with a step size of 5."
      ],
      "metadata": {
        "id": "KLYt_6p_IFUM"
      }
    },
    {
      "cell_type": "code",
      "source": [
        "a4=np.array(range(10,51,5))\n",
        "print(\"Array :\",a4)"
      ],
      "metadata": {
        "colab": {
          "base_uri": "https://localhost:8080/"
        },
        "id": "MRgcXqkRJPhL",
        "outputId": "faa54efb-3e03-4b73-b980-2ca1664f9cf0"
      },
      "execution_count": null,
      "outputs": [
        {
          "output_type": "stream",
          "name": "stdout",
          "text": [
            "Array : [10 15 20 25 30 35 40 45 50]\n"
          ]
        }
      ]
    },
    {
      "cell_type": "markdown",
      "source": [
        "#4) Reshape the array into a 2x4 matrix\n"
      ],
      "metadata": {
        "id": "3B6CzrW2JyLA"
      }
    },
    {
      "cell_type": "code",
      "source": [
        "a5=np.array([1,2,3,4,5,6,7,8])\n",
        "print(\"Array :\",a5)\n",
        "ra5=a5.reshape(2,4)\n",
        "print(\"After reshape Array :\\n\",ra5)"
      ],
      "metadata": {
        "colab": {
          "base_uri": "https://localhost:8080/"
        },
        "id": "VrvTA3g_KFnR",
        "outputId": "e637fd94-003d-410a-aa0b-e6c869f02e11"
      },
      "execution_count": null,
      "outputs": [
        {
          "output_type": "stream",
          "name": "stdout",
          "text": [
            "Array : [1 2 3 4 5 6 7 8]\n",
            "After reshape Array :\n",
            " [[1 2 3 4]\n",
            " [5 6 7 8]]\n"
          ]
        }
      ]
    },
    {
      "cell_type": "markdown",
      "source": [
        "#5) Given the arr=np.array([[1,2,3],[4,5,6],[7,8,9]]):"
      ],
      "metadata": {
        "id": "ccciiEnMLRup"
      }
    },
    {
      "cell_type": "code",
      "source": [
        "arr=np.array([[1,2,3],[4,5,6],[7,8,9]])"
      ],
      "metadata": {
        "id": "JtbWNU5cMzZN"
      },
      "execution_count": 20,
      "outputs": []
    },
    {
      "cell_type": "markdown",
      "source": [
        "##a) Extract the sub-matrix containing the last two rows and first two columns."
      ],
      "metadata": {
        "id": "LGsLl_hDLogy"
      }
    },
    {
      "cell_type": "code",
      "source": [
        "sm=arr[1: , :2]\n",
        "print(\"Matrix :\\n\",arr)\n",
        "print(\"Sub Matrix :\\n\",sm)"
      ],
      "metadata": {
        "colab": {
          "base_uri": "https://localhost:8080/"
        },
        "id": "wq5LzsLmMOkR",
        "outputId": "8fbe478a-89df-48b2-874b-dbebac412418"
      },
      "execution_count": 21,
      "outputs": [
        {
          "output_type": "stream",
          "name": "stdout",
          "text": [
            "Matrix :\n",
            " [[1 2 3]\n",
            " [4 5 6]\n",
            " [7 8 9]]\n",
            "Sub Matrix :\n",
            " [[4 5]\n",
            " [7 8]]\n"
          ]
        }
      ]
    },
    {
      "cell_type": "markdown",
      "source": [
        "##b) Replace all elements greater than 4 and 0."
      ],
      "metadata": {
        "id": "fnrjzmmDNwQ0"
      }
    },
    {
      "cell_type": "code",
      "source": [
        "print(\"Matrix :\\n\",arr)\n",
        "arr[arr>4]=0\n",
        "print(\"After Replacing with Zeros :\")\n",
        "print(arr)"
      ],
      "metadata": {
        "colab": {
          "base_uri": "https://localhost:8080/"
        },
        "id": "F9RYZ9SmOD5F",
        "outputId": "787430d7-b7a9-4b39-b038-765b6020eef8"
      },
      "execution_count": 22,
      "outputs": [
        {
          "output_type": "stream",
          "name": "stdout",
          "text": [
            "Matrix :\n",
            " [[1 2 3]\n",
            " [4 5 6]\n",
            " [7 8 9]]\n",
            "After Replacing with Zeros :\n",
            "[[1 2 3]\n",
            " [4 0 0]\n",
            " [0 0 0]]\n"
          ]
        }
      ]
    },
    {
      "cell_type": "markdown",
      "source": [
        "#6) Create two 1D arrays:\n",
        "####a=np.array([1,2,3])\n",
        "####b=np.array([4,5,6])\n",
        "#Perform element-wise addition, multiplication, and division."
      ],
      "metadata": {
        "id": "3N4XBvJsQ5o-"
      }
    },
    {
      "cell_type": "code",
      "source": [
        "a=np.array([1,2,3])\n",
        "b=np.array([4,5,6])\n",
        "print(\"Array 1 :\",a,\"\\nArray 2 :\",b)\n",
        "print(\"Addition :\",np.add(a,b))\n",
        "print(\"Multiplication :\",np.multiply(a,b))\n",
        "print(\"Division :\",np.divide(a,b))"
      ],
      "metadata": {
        "colab": {
          "base_uri": "https://localhost:8080/"
        },
        "id": "VUy4GK7VReKE",
        "outputId": "828fcb4a-c665-450c-af6b-21a3428cd4b6"
      },
      "execution_count": 5,
      "outputs": [
        {
          "output_type": "stream",
          "name": "stdout",
          "text": [
            "Array 1 : [1 2 3] \n",
            "Array 2 : [4 5 6]\n",
            "Addition : [5 7 9]\n",
            "Multiplication : [ 4 10 18]\n",
            "Division : [0.25 0.4  0.5 ]\n"
          ]
        }
      ]
    },
    {
      "cell_type": "markdown",
      "source": [
        "#7) Create a random NumPy array of size(4,4).Compute:"
      ],
      "metadata": {
        "id": "Uy-wnUQ8Rk_A"
      }
    },
    {
      "cell_type": "code",
      "source": [
        "a7=np.random.rand(4,4)\n",
        "print(a7)"
      ],
      "metadata": {
        "colab": {
          "base_uri": "https://localhost:8080/"
        },
        "id": "L4y_Hg4taU72",
        "outputId": "1579a3ab-3218-4476-b2f7-a015923643c7"
      },
      "execution_count": 16,
      "outputs": [
        {
          "output_type": "stream",
          "name": "stdout",
          "text": [
            "[[0.88027929 0.03105268 0.40805506 0.93893567]\n",
            " [0.84907711 0.75613408 0.67579054 0.90894346]\n",
            " [0.5525453  0.91430799 0.8430257  0.54713275]\n",
            " [0.82911277 0.6207448  0.09741423 0.77844644]]\n"
          ]
        }
      ]
    },
    {
      "cell_type": "markdown",
      "source": [
        "##a) Mean of each column"
      ],
      "metadata": {
        "id": "O7OCe_RXVpZW"
      }
    },
    {
      "cell_type": "code",
      "source": [
        "print(\"Array :\\n\",a7)\n",
        "m2=np.mean(a7,axis=0)\n",
        "print(\"Mean :\",m2)"
      ],
      "metadata": {
        "colab": {
          "base_uri": "https://localhost:8080/"
        },
        "id": "xyO7NMU3ak1H",
        "outputId": "31e87ff9-8371-4bd3-ce9d-d666380fb658"
      },
      "execution_count": 17,
      "outputs": [
        {
          "output_type": "stream",
          "name": "stdout",
          "text": [
            "Array :\n",
            " [[0.88027929 0.03105268 0.40805506 0.93893567]\n",
            " [0.84907711 0.75613408 0.67579054 0.90894346]\n",
            " [0.5525453  0.91430799 0.8430257  0.54713275]\n",
            " [0.82911277 0.6207448  0.09741423 0.77844644]]\n",
            "Mean : [0.77775362 0.58055989 0.50607138 0.79336458]\n"
          ]
        }
      ]
    },
    {
      "cell_type": "markdown",
      "source": [
        "##b) Maximum value of the entire array."
      ],
      "metadata": {
        "id": "A-r_LU9fVwk1"
      }
    },
    {
      "cell_type": "code",
      "source": [
        "print(\"Array :\\n\",a7)\n",
        "max_value=np.max(a7)\n",
        "print(\"Maximum value of the entire array :\",max_value)"
      ],
      "metadata": {
        "colab": {
          "base_uri": "https://localhost:8080/"
        },
        "id": "lOqz_puRbl7H",
        "outputId": "bd5bff0c-9baf-48a4-d748-d2e47af7fef2"
      },
      "execution_count": 18,
      "outputs": [
        {
          "output_type": "stream",
          "name": "stdout",
          "text": [
            "Array :\n",
            " [[0.88027929 0.03105268 0.40805506 0.93893567]\n",
            " [0.84907711 0.75613408 0.67579054 0.90894346]\n",
            " [0.5525453  0.91430799 0.8430257  0.54713275]\n",
            " [0.82911277 0.6207448  0.09741423 0.77844644]]\n",
            "Maximum value of the entire array : 0.9389356665431605\n"
          ]
        }
      ]
    },
    {
      "cell_type": "markdown",
      "source": [
        "##c) Sum of all elements."
      ],
      "metadata": {
        "id": "tcnNDRXTV7N1"
      }
    },
    {
      "cell_type": "code",
      "source": [
        "print(\"Array :\\n\",a7)\n",
        "sum_ele = np.sum(a7)\n",
        "print(\"Sum of all elements:\", sum_ele)"
      ],
      "metadata": {
        "colab": {
          "base_uri": "https://localhost:8080/"
        },
        "id": "QmLcBCCTbDxX",
        "outputId": "e19a242c-e720-43d5-bbc5-408188d76b3a"
      },
      "execution_count": 19,
      "outputs": [
        {
          "output_type": "stream",
          "name": "stdout",
          "text": [
            "Array :\n",
            " [[0.88027929 0.03105268 0.40805506 0.93893567]\n",
            " [0.84907711 0.75613408 0.67579054 0.90894346]\n",
            " [0.5525453  0.91430799 0.8430257  0.54713275]\n",
            " [0.82911277 0.6207448  0.09741423 0.77844644]]\n",
            "Sum of all elements: 10.630997860763275\n"
          ]
        }
      ]
    },
    {
      "cell_type": "markdown",
      "source": [
        "#8) Given the array arr=np.array([1,2,3,4]), add 10 to each element and multipy the result by 2."
      ],
      "metadata": {
        "id": "PPaiXgubWBRR"
      }
    },
    {
      "cell_type": "code",
      "source": [
        "arr=np.array([1,2,3,4])\n",
        "print(\"Array :\",arr)\n",
        "arr=(arr+10)*2\n",
        "print(\"After adding 10 to each element and multipy the result by 2 :\",arr)"
      ],
      "metadata": {
        "colab": {
          "base_uri": "https://localhost:8080/"
        },
        "id": "t05KDp4ccK2y",
        "outputId": "6be7779c-746a-4d8e-9a0e-7384840d6e8e"
      },
      "execution_count": null,
      "outputs": [
        {
          "output_type": "stream",
          "name": "stdout",
          "text": [
            "Array : [1 2 3 4]\n",
            "After adding 10 to each element and multipy the result by 2 : [22 24 26 28]\n"
          ]
        }
      ]
    },
    {
      "cell_type": "markdown",
      "source": [
        "#9) Perform advanced slicing and indexing on a 3D array. Create a 3D NumPy array arr of shape (3,4,5) with random integers ranging from 1 to 100. Perform the following:"
      ],
      "metadata": {
        "id": "S_5AhqtIWeVa"
      }
    },
    {
      "cell_type": "code",
      "source": [
        "arr=np.random.randint(1,101,size=(3,4,5))"
      ],
      "metadata": {
        "id": "2F3jFE6WdtQR"
      },
      "execution_count": 12,
      "outputs": []
    },
    {
      "cell_type": "markdown",
      "source": [
        "##a) Extract the second \"layer\" (i.e., the second 2D array) in the first first dimension.\n"
      ],
      "metadata": {
        "id": "rzncmQLlXEGr"
      }
    },
    {
      "cell_type": "code",
      "source": [
        "print(\"Array :\\n\",arr)\n",
        "print(\"The Second Layer of Array :\\n\",arr[1])"
      ],
      "metadata": {
        "colab": {
          "base_uri": "https://localhost:8080/"
        },
        "id": "cydtQBX6eIBW",
        "outputId": "0de55b99-2135-4c1d-a992-98462dfd155d"
      },
      "execution_count": 13,
      "outputs": [
        {
          "output_type": "stream",
          "name": "stdout",
          "text": [
            "Array :\n",
            " [[[89 23 36 26 52]\n",
            "  [88 89 69 58 31]\n",
            "  [32 60  5 12 14]\n",
            "  [71 34 73 63 51]]\n",
            "\n",
            " [[ 1 11 95 19 27]\n",
            "  [23  2 16 90 59]\n",
            "  [53 37 80  9 93]\n",
            "  [38 98 61 98 84]]\n",
            "\n",
            " [[61 52 97 24 19]\n",
            "  [84 45 17 81 60]\n",
            "  [33 26 35 45 62]\n",
            "  [45  8 67 89 17]]]\n",
            "The Second Layer of Array :\n",
            " [[ 1 11 95 19 27]\n",
            " [23  2 16 90 59]\n",
            " [53 37 80  9 93]\n",
            " [38 98 61 98 84]]\n"
          ]
        }
      ]
    },
    {
      "cell_type": "markdown",
      "source": [
        "##b) Extract the first two rows and the last three columns from each \"layer\"."
      ],
      "metadata": {
        "id": "QNq10KVHXZDh"
      }
    },
    {
      "cell_type": "code",
      "source": [
        "print(\"Array :\\n\",arr)\n",
        "sarr=arr[:,:2,2:]\n",
        "print(\"The first two rows and the last three columns from each layer of Array :\\n\",sarr)"
      ],
      "metadata": {
        "colab": {
          "base_uri": "https://localhost:8080/"
        },
        "id": "9kTpq2lweeB6",
        "outputId": "a6b73772-48c7-4eb6-e3b5-48bfc845a9d0"
      },
      "execution_count": 14,
      "outputs": [
        {
          "output_type": "stream",
          "name": "stdout",
          "text": [
            "Array :\n",
            " [[[89 23 36 26 52]\n",
            "  [88 89 69 58 31]\n",
            "  [32 60  5 12 14]\n",
            "  [71 34 73 63 51]]\n",
            "\n",
            " [[ 1 11 95 19 27]\n",
            "  [23  2 16 90 59]\n",
            "  [53 37 80  9 93]\n",
            "  [38 98 61 98 84]]\n",
            "\n",
            " [[61 52 97 24 19]\n",
            "  [84 45 17 81 60]\n",
            "  [33 26 35 45 62]\n",
            "  [45  8 67 89 17]]]\n",
            "The first two rows and the last three columns from each layer of Array :\n",
            " [[[36 26 52]\n",
            "  [69 58 31]]\n",
            "\n",
            " [[95 19 27]\n",
            "  [16 90 59]]\n",
            "\n",
            " [[97 24 19]\n",
            "  [17 81 60]]]\n"
          ]
        }
      ]
    },
    {
      "cell_type": "markdown",
      "source": [
        "##c) Replace all elements divisible by 3 with -1."
      ],
      "metadata": {
        "id": "vU0XGsdjXzNt"
      }
    },
    {
      "cell_type": "code",
      "source": [
        "print(\"Array :\\n\",arr)\n",
        "arr[arr%3==0]=-1\n",
        "print(\"After replacing all elements divisible by 3 with -1 :\\n\",arr)"
      ],
      "metadata": {
        "colab": {
          "base_uri": "https://localhost:8080/"
        },
        "id": "5WJjRoz0g-Zv",
        "outputId": "53ba5494-db29-4846-ddf5-bed2990ffc2c"
      },
      "execution_count": 15,
      "outputs": [
        {
          "output_type": "stream",
          "name": "stdout",
          "text": [
            "Array :\n",
            " [[[89 23 36 26 52]\n",
            "  [88 89 69 58 31]\n",
            "  [32 60  5 12 14]\n",
            "  [71 34 73 63 51]]\n",
            "\n",
            " [[ 1 11 95 19 27]\n",
            "  [23  2 16 90 59]\n",
            "  [53 37 80  9 93]\n",
            "  [38 98 61 98 84]]\n",
            "\n",
            " [[61 52 97 24 19]\n",
            "  [84 45 17 81 60]\n",
            "  [33 26 35 45 62]\n",
            "  [45  8 67 89 17]]]\n",
            "After replacing all elements divisible by 3 with -1 :\n",
            " [[[89 23 -1 26 52]\n",
            "  [88 89 -1 58 31]\n",
            "  [32 -1  5 -1 14]\n",
            "  [71 34 73 -1 -1]]\n",
            "\n",
            " [[ 1 11 95 19 -1]\n",
            "  [23  2 16 -1 59]\n",
            "  [53 37 80 -1 -1]\n",
            "  [38 98 61 98 -1]]\n",
            "\n",
            " [[61 52 97 -1 19]\n",
            "  [-1 -1 17 -1 -1]\n",
            "  [-1 26 35 -1 62]\n",
            "  [-1  8 67 89 17]]]\n"
          ]
        }
      ]
    },
    {
      "cell_type": "markdown",
      "source": [
        "#10) Work with broadcasting and advanced operations in NumPy. Create a NumPy array arr of shape (3,3) with random integers between 1 and 20. Perform the following:"
      ],
      "metadata": {
        "id": "8h3DQXTKYBOO"
      }
    },
    {
      "cell_type": "code",
      "source": [
        "arr=np.random.randint(1,21,size=(3,3))\n",
        "print(arr)"
      ],
      "metadata": {
        "colab": {
          "base_uri": "https://localhost:8080/"
        },
        "id": "0_IePYE9hlEG",
        "outputId": "327a676b-5633-4608-bc13-04e81432fd4d"
      },
      "execution_count": 7,
      "outputs": [
        {
          "output_type": "stream",
          "name": "stdout",
          "text": [
            "[[ 7  7  9]\n",
            " [19 10 12]\n",
            " [ 6 17 17]]\n"
          ]
        }
      ]
    },
    {
      "cell_type": "markdown",
      "source": [
        "##a) Subtract the mean of each row from its respective elements (row-wise normalization)"
      ],
      "metadata": {
        "id": "95hp6dUhZFU7"
      }
    },
    {
      "cell_type": "code",
      "source": [
        "print(\"Array :\\n\",arr)\n",
        "r_mean=arr.mean(axis=1,keepdims=True)\n",
        "norm_mean=arr-r_mean\n",
        "print(\"Row-wise Normalized mean :\\n\",norm_mean)"
      ],
      "metadata": {
        "colab": {
          "base_uri": "https://localhost:8080/"
        },
        "id": "WFMYNJSEjKbB",
        "outputId": "69bcba7c-37f4-4f5d-d74c-b08e1cfe8041"
      },
      "execution_count": 8,
      "outputs": [
        {
          "output_type": "stream",
          "name": "stdout",
          "text": [
            "Array :\n",
            " [[ 7  7  9]\n",
            " [19 10 12]\n",
            " [ 6 17 17]]\n",
            "Row-wise Normalized mean :\n",
            " [[-0.66666667 -0.66666667  1.33333333]\n",
            " [ 5.33333333 -3.66666667 -1.66666667]\n",
            " [-7.33333333  3.66666667  3.66666667]]\n"
          ]
        }
      ]
    },
    {
      "cell_type": "markdown",
      "source": [
        "##b) Create a new array by squaring all the elements in arr."
      ],
      "metadata": {
        "id": "kPrrM97GZgOp"
      }
    },
    {
      "cell_type": "code",
      "source": [
        "print(\"Array :\\n\",arr)\n",
        "arr2=np.power(arr,2)\n",
        "print(\"After Squaring all the elements in array :\\n\",arr2)"
      ],
      "metadata": {
        "colab": {
          "base_uri": "https://localhost:8080/"
        },
        "id": "at4YmPpsh2nH",
        "outputId": "771db9d1-4883-4212-e1b4-9efb83afbe2c"
      },
      "execution_count": 10,
      "outputs": [
        {
          "output_type": "stream",
          "name": "stdout",
          "text": [
            "Array :\n",
            " [[ 7  7  9]\n",
            " [19 10 12]\n",
            " [ 6 17 17]]\n",
            "After Squaring all the elements in array :\n",
            " [[ 49  49  81]\n",
            " [361 100 144]\n",
            " [ 36 289 289]]\n"
          ]
        }
      ]
    },
    {
      "cell_type": "markdown",
      "source": [
        "##c) Find the indicies of the top 3 maximum values in the entire array."
      ],
      "metadata": {
        "id": "f4CUMivhZrVS"
      }
    },
    {
      "cell_type": "code",
      "source": [
        "print(\"Array :\\n\",arr)\n",
        "f_arr=arr.flatten()\n",
        "s_arr=np.argsort(f_arr)[6:]\n",
        "r=s_arr//arr.shape[1]\n",
        "c=s_arr%arr.shape[1]\n",
        "top3=list(zip(r,c))\n",
        "print(\"Top 3 maximum values indicies :\\n\",top3)"
      ],
      "metadata": {
        "colab": {
          "base_uri": "https://localhost:8080/"
        },
        "id": "_KR9VyoVZ5zR",
        "outputId": "76a1f308-6bf8-45f0-811f-0be8ca6d9e6b"
      },
      "execution_count": 11,
      "outputs": [
        {
          "output_type": "stream",
          "name": "stdout",
          "text": [
            "Array :\n",
            " [[ 7  7  9]\n",
            " [19 10 12]\n",
            " [ 6 17 17]]\n",
            "Top 3 maximum values indicies :\n",
            " [(2, 1), (2, 2), (1, 0)]\n"
          ]
        }
      ]
    }
  ]
}