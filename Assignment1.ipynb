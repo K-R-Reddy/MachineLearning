{
  "nbformat": 4,
  "nbformat_minor": 0,
  "metadata": {
    "colab": {
      "provenance": [],
      "toc_visible": true,
      "include_colab_link": true
    },
    "kernelspec": {
      "name": "python3",
      "display_name": "Python 3"
    },
    "language_info": {
      "name": "python"
    }
  },
  "cells": [
    {
      "cell_type": "markdown",
      "metadata": {
        "id": "view-in-github",
        "colab_type": "text"
      },
      "source": [
        "<a href=\"https://colab.research.google.com/github/K-R-Reddy/MachineLearning/blob/main/Assignment1.ipynb\" target=\"_parent\"><img src=\"https://colab.research.google.com/assets/colab-badge.svg\" alt=\"Open In Colab\"/></a>"
      ]
    },
    {
      "cell_type": "code",
      "execution_count": null,
      "metadata": {
        "id": "JCl0GoIlBNq1"
      },
      "outputs": [],
      "source": [
        "import numpy as np"
      ]
    },
    {
      "cell_type": "markdown",
      "source": [
        "#1) Perform arithmetic operations on NumPy arrays."
      ],
      "metadata": {
        "id": "_RuDu8ciERMl"
      }
    },
    {
      "cell_type": "code",
      "source": [
        "a1=np.array([1,2,3,4,5])\n",
        "a2=np.array([6,7,8,9,10])\n",
        "print(\"Array 1 :\",a1,\"\\nArray 2 :\",a2)\n",
        "print(\"Addition :\",a1+a2)\n",
        "print(\"Subtraction :\",a1-a2)\n",
        "print(\"Multiplication :\",a1*a2)\n",
        "print(\"Division :\",a1/a2)\n",
        "print(\"Remainder :\",a1%a2)\n"
      ],
      "metadata": {
        "colab": {
          "base_uri": "https://localhost:8080/"
        },
        "id": "5zJBuRPJErVu",
        "outputId": "1cff0abc-fd96-4cf1-be85-60e31fc47e99"
      },
      "execution_count": null,
      "outputs": [
        {
          "output_type": "stream",
          "name": "stdout",
          "text": [
            "Array 1 : [1 2 3 4 5] \n",
            "Array 2 : [ 6  7  8  9 10]\n",
            "Addition : [ 7  9 11 13 15]\n",
            "Subtraction : [-5 -5 -5 -5 -5]\n",
            "Multiplication : [ 6 14 24 36 50]\n",
            "Division : [0.16666667 0.28571429 0.375      0.44444444 0.5       ]\n",
            "Remainder : [1 2 3 4 5]\n"
          ]
        }
      ]
    },
    {
      "cell_type": "markdown",
      "source": [
        "#2) Write a script to compute the mean and standard deviation of a NumPy array.\n",
        "numpy.mean(array_name) : It is used to find Mean of the array.<br>\n",
        "numpy.std(array_name) : It is used to find the Standard deviation of the array."
      ],
      "metadata": {
        "id": "czT_zMu1FWKX"
      }
    },
    {
      "cell_type": "code",
      "source": [
        "a3=np.array([1,2,3,4,5])\n",
        "m=np.mean(a3)\n",
        "s=np.std(a3)\n",
        "print(\"Array :\",a3)\n",
        "print(\"Mean :\",m)\n",
        "print(\"Standard deviation : \",s)"
      ],
      "metadata": {
        "colab": {
          "base_uri": "https://localhost:8080/"
        },
        "id": "zi_Ro-r6FoMo",
        "outputId": "798bb486-7f8d-405a-aa13-f195fcf75c2c"
      },
      "execution_count": null,
      "outputs": [
        {
          "output_type": "stream",
          "name": "stdout",
          "text": [
            "Array : [1 2 3 4 5]\n",
            "Mean : 3.0\n",
            "Standard deviation :  1.4142135623730951\n"
          ]
        }
      ]
    },
    {
      "cell_type": "markdown",
      "source": [
        "#3) Create a NumPy array of integers from 10 to 50 with a step size of 5."
      ],
      "metadata": {
        "id": "KLYt_6p_IFUM"
      }
    },
    {
      "cell_type": "code",
      "source": [
        "a4=np.array(range(10,51,5))\n",
        "print(\"Array :\",a4)"
      ],
      "metadata": {
        "colab": {
          "base_uri": "https://localhost:8080/"
        },
        "id": "MRgcXqkRJPhL",
        "outputId": "faa54efb-3e03-4b73-b980-2ca1664f9cf0"
      },
      "execution_count": null,
      "outputs": [
        {
          "output_type": "stream",
          "name": "stdout",
          "text": [
            "Array : [10 15 20 25 30 35 40 45 50]\n"
          ]
        }
      ]
    },
    {
      "cell_type": "markdown",
      "source": [
        "#4) Reshape the array into a 2x4 matrix\n"
      ],
      "metadata": {
        "id": "3B6CzrW2JyLA"
      }
    },
    {
      "cell_type": "code",
      "source": [
        "a5=np.array([1,2,3,4,5,6,7,8])\n",
        "print(\"Array :\",a5)\n",
        "ra5=a5.reshape(2,4)\n",
        "print(\"After reshape Array :\\n\",ra5)"
      ],
      "metadata": {
        "colab": {
          "base_uri": "https://localhost:8080/"
        },
        "id": "VrvTA3g_KFnR",
        "outputId": "e637fd94-003d-410a-aa0b-e6c869f02e11"
      },
      "execution_count": null,
      "outputs": [
        {
          "output_type": "stream",
          "name": "stdout",
          "text": [
            "Array : [1 2 3 4 5 6 7 8]\n",
            "After reshape Array :\n",
            " [[1 2 3 4]\n",
            " [5 6 7 8]]\n"
          ]
        }
      ]
    },
    {
      "cell_type": "markdown",
      "source": [
        "#5) Given the arr=np.array([[1,2,3],[4,5,6],[7,8,9]]):"
      ],
      "metadata": {
        "id": "ccciiEnMLRup"
      }
    },
    {
      "cell_type": "code",
      "source": [
        "arr=np.array([[1,2,3],[4,5,6],[7,8,9]])"
      ],
      "metadata": {
        "id": "JtbWNU5cMzZN"
      },
      "execution_count": null,
      "outputs": []
    },
    {
      "cell_type": "markdown",
      "source": [
        "##a) Extract the sub-matrix containing the last two rows and first two columns."
      ],
      "metadata": {
        "id": "LGsLl_hDLogy"
      }
    },
    {
      "cell_type": "code",
      "source": [
        "sm=arr[1: , :2]\n",
        "print(\"Matrix :\\n\",arr)\n",
        "print(\"Sub Matrix :\\n\",sm)"
      ],
      "metadata": {
        "colab": {
          "base_uri": "https://localhost:8080/"
        },
        "id": "wq5LzsLmMOkR",
        "outputId": "10a74692-fa34-4131-b9b6-177017be24c0"
      },
      "execution_count": null,
      "outputs": [
        {
          "output_type": "stream",
          "name": "stdout",
          "text": [
            "Matrix :\n",
            " [[1 2 3]\n",
            " [4 5 6]\n",
            " [7 8 9]]\n",
            "Sub Matrix :\n",
            " [[4 5]\n",
            " [7 8]]\n"
          ]
        }
      ]
    },
    {
      "cell_type": "markdown",
      "source": [
        "##b) Replace all elements greater than 4 and 0."
      ],
      "metadata": {
        "id": "fnrjzmmDNwQ0"
      }
    },
    {
      "cell_type": "code",
      "source": [
        "arr[arr>4]=0\n",
        "print(\"After Replacing with Zeros :\")\n",
        "print(arr)"
      ],
      "metadata": {
        "colab": {
          "base_uri": "https://localhost:8080/"
        },
        "id": "F9RYZ9SmOD5F",
        "outputId": "e19cb01c-4378-4528-8a8e-3b39035b2374"
      },
      "execution_count": null,
      "outputs": [
        {
          "output_type": "stream",
          "name": "stdout",
          "text": [
            "After Replacing with Zeros :\n",
            "[[1 2 3]\n",
            " [4 0 0]\n",
            " [0 0 0]]\n"
          ]
        }
      ]
    },
    {
      "cell_type": "markdown",
      "source": [
        "#6) Create two 1D arrays:\n",
        "####a=np.array([1,2,3])\n",
        "####b=np.array([4,5,6])\n",
        "#Perform element-wise addition, multiplication, and division."
      ],
      "metadata": {
        "id": "3N4XBvJsQ5o-"
      }
    },
    {
      "cell_type": "code",
      "source": [
        "a=np.array([1,2,3])\n",
        "b=np.array([4,5,6])\n",
        "print(\"Array 1 :\",a,\"\\nArray 2 :\",b)\n",
        "print(\"Addition :\",np.add(a,b))\n",
        "print(\"Multiplication :\",np.multiply(a,b))\n",
        "print(\"Division :\",np.divide(a,b))"
      ],
      "metadata": {
        "colab": {
          "base_uri": "https://localhost:8080/"
        },
        "id": "VUy4GK7VReKE",
        "outputId": "828fcb4a-c665-450c-af6b-21a3428cd4b6"
      },
      "execution_count": 5,
      "outputs": [
        {
          "output_type": "stream",
          "name": "stdout",
          "text": [
            "Array 1 : [1 2 3] \n",
            "Array 2 : [4 5 6]\n",
            "Addition : [5 7 9]\n",
            "Multiplication : [ 4 10 18]\n",
            "Division : [0.25 0.4  0.5 ]\n"
          ]
        }
      ]
    },
    {
      "cell_type": "markdown",
      "source": [
        "#7) Create a random NumPy array of size(4,4).Compute:"
      ],
      "metadata": {
        "id": "Uy-wnUQ8Rk_A"
      }
    },
    {
      "cell_type": "code",
      "source": [
        "a7=np.random.rand(4,4)\n",
        "print(a7)"
      ],
      "metadata": {
        "colab": {
          "base_uri": "https://localhost:8080/"
        },
        "id": "L4y_Hg4taU72",
        "outputId": "06626080-57b2-40bd-c3e9-12ea7e2788f2"
      },
      "execution_count": null,
      "outputs": [
        {
          "output_type": "stream",
          "name": "stdout",
          "text": [
            "[[0.58255949 0.91412744 0.74254131 0.94571165]\n",
            " [0.82996845 0.5550818  0.69387494 0.93156582]\n",
            " [0.4954466  0.14463484 0.75153474 0.4362357 ]\n",
            " [0.21225906 0.3248896  0.24744566 0.46617736]]\n"
          ]
        }
      ]
    },
    {
      "cell_type": "markdown",
      "source": [
        "##a) Mean of each column"
      ],
      "metadata": {
        "id": "O7OCe_RXVpZW"
      }
    },
    {
      "cell_type": "code",
      "source": [
        "m2=np.mean(a7,axis=0)\n",
        "print(\"Mean :\",m2)"
      ],
      "metadata": {
        "colab": {
          "base_uri": "https://localhost:8080/"
        },
        "id": "xyO7NMU3ak1H",
        "outputId": "018a50a0-ba5e-41b1-9dc5-18927bb0f79c"
      },
      "execution_count": null,
      "outputs": [
        {
          "output_type": "stream",
          "name": "stdout",
          "text": [
            "Mean : [0.5300584  0.48468342 0.60884916 0.69492263]\n"
          ]
        }
      ]
    },
    {
      "cell_type": "markdown",
      "source": [
        "##b) Maximum value of the entire array."
      ],
      "metadata": {
        "id": "A-r_LU9fVwk1"
      }
    },
    {
      "cell_type": "code",
      "source": [
        "max_value=np.max(a7)\n",
        "print(\"Maximum value of the entire array :\",max_value)"
      ],
      "metadata": {
        "colab": {
          "base_uri": "https://localhost:8080/"
        },
        "id": "lOqz_puRbl7H",
        "outputId": "63d6148e-48fe-46a4-ea9d-62e10c6288a5"
      },
      "execution_count": null,
      "outputs": [
        {
          "output_type": "stream",
          "name": "stdout",
          "text": [
            "Maximum value of the entire array : 0.9457116508514475\n"
          ]
        }
      ]
    },
    {
      "cell_type": "markdown",
      "source": [
        "##c) Sum of all elements."
      ],
      "metadata": {
        "id": "tcnNDRXTV7N1"
      }
    },
    {
      "cell_type": "code",
      "source": [
        "sum_ele = np.sum(a7)\n",
        "print(\"Sum of all elements:\", sum_ele)"
      ],
      "metadata": {
        "colab": {
          "base_uri": "https://localhost:8080/"
        },
        "id": "QmLcBCCTbDxX",
        "outputId": "13b672db-7f77-4ab2-8cb3-02bf9b773383"
      },
      "execution_count": null,
      "outputs": [
        {
          "output_type": "stream",
          "name": "stdout",
          "text": [
            "Sum of all elements: 9.27405444805826\n"
          ]
        }
      ]
    },
    {
      "cell_type": "markdown",
      "source": [
        "#8) Given the array arr=np.array([1,2,3,4]), add 10 to each element and multipy the result by 2."
      ],
      "metadata": {
        "id": "PPaiXgubWBRR"
      }
    },
    {
      "cell_type": "code",
      "source": [
        "arr=np.array([1,2,3,4])\n",
        "print(\"Array :\",arr)\n",
        "arr=(arr+10)*2\n",
        "print(\"After adding 10 to each element and multipy the result by 2 :\",arr)"
      ],
      "metadata": {
        "colab": {
          "base_uri": "https://localhost:8080/"
        },
        "id": "t05KDp4ccK2y",
        "outputId": "6be7779c-746a-4d8e-9a0e-7384840d6e8e"
      },
      "execution_count": null,
      "outputs": [
        {
          "output_type": "stream",
          "name": "stdout",
          "text": [
            "Array : [1 2 3 4]\n",
            "After adding 10 to each element and multipy the result by 2 : [22 24 26 28]\n"
          ]
        }
      ]
    },
    {
      "cell_type": "markdown",
      "source": [
        "#9) Perform advanced slicing and indexing on a 3D array. Create a 3D NumPy array arr of shape (3,4,5) with random integers ranging from 1 to 100. Perform the following:"
      ],
      "metadata": {
        "id": "S_5AhqtIWeVa"
      }
    },
    {
      "cell_type": "code",
      "source": [
        "arr=np.random.randint(1,101,size=(3,4,5))"
      ],
      "metadata": {
        "id": "2F3jFE6WdtQR"
      },
      "execution_count": null,
      "outputs": []
    },
    {
      "cell_type": "markdown",
      "source": [
        "##a) Extract the second \"layer\" (i.e., the second 2D array) in the first first dimension.\n"
      ],
      "metadata": {
        "id": "rzncmQLlXEGr"
      }
    },
    {
      "cell_type": "code",
      "source": [
        "print(\"Array :\\n\",arr)\n",
        "print(\"The Second Layer of Array :\\n\",arr[1])"
      ],
      "metadata": {
        "colab": {
          "base_uri": "https://localhost:8080/"
        },
        "id": "cydtQBX6eIBW",
        "outputId": "04c02e30-9ed7-4741-d6c2-e47363984709"
      },
      "execution_count": null,
      "outputs": [
        {
          "output_type": "stream",
          "name": "stdout",
          "text": [
            "Array :\n",
            " [[[ 20  59  74  41  87]\n",
            "  [ 26   5  59  37   3]\n",
            "  [ 46  22  65  96  88]\n",
            "  [ 27  40  26  75  29]]\n",
            "\n",
            " [[ 81  74  20  71  86]\n",
            "  [ 78  53  97  40  98]\n",
            "  [ 39  78  51 100  55]\n",
            "  [ 78  82  59   1  40]]\n",
            "\n",
            " [[ 88  85  62   1  54]\n",
            "  [ 38  91  25  76  75]\n",
            "  [ 96  72  76  63  13]\n",
            "  [ 40  11  57  66  48]]]\n",
            "The Second Layer of Array :\n",
            " [[ 81  74  20  71  86]\n",
            " [ 78  53  97  40  98]\n",
            " [ 39  78  51 100  55]\n",
            " [ 78  82  59   1  40]]\n"
          ]
        }
      ]
    },
    {
      "cell_type": "markdown",
      "source": [
        "##b) Extract the first two rows and the last three columns from each \"layer\"."
      ],
      "metadata": {
        "id": "QNq10KVHXZDh"
      }
    },
    {
      "cell_type": "code",
      "source": [
        "print(\"Array :\\n\",arr)\n",
        "sarr=arr[:,:2,2:]\n",
        "print(\"The first two rows and the last three columns from each layer of Array :\\n\",sarr)"
      ],
      "metadata": {
        "colab": {
          "base_uri": "https://localhost:8080/"
        },
        "id": "9kTpq2lweeB6",
        "outputId": "a0861305-6fe4-45d8-e62b-723d1945c8a6"
      },
      "execution_count": null,
      "outputs": [
        {
          "output_type": "stream",
          "name": "stdout",
          "text": [
            "Array :\n",
            " [[[ 32  92  53  19  11]\n",
            "  [ 67  65  55   1  26]\n",
            "  [  7  39  91  87  43]\n",
            "  [  1  84 100   2   7]]\n",
            "\n",
            " [[ 46  37  93  65  99]\n",
            "  [ 15  98  33  85  45]\n",
            "  [ 64  67  84  16  42]\n",
            "  [ 52  52  18  46  45]]\n",
            "\n",
            " [[ 92  24  61  86  93]\n",
            "  [  9  68  44  19  77]\n",
            "  [ 70  40  83  50  82]\n",
            "  [  8  50  32  64  85]]]\n",
            "The first two rows and the last three columns from each layer of Array :\n",
            " [[[53 19 11]\n",
            "  [55  1 26]]\n",
            "\n",
            " [[93 65 99]\n",
            "  [33 85 45]]\n",
            "\n",
            " [[61 86 93]\n",
            "  [44 19 77]]]\n"
          ]
        }
      ]
    },
    {
      "cell_type": "markdown",
      "source": [
        "##c) Replace all elements divisible by 3 with -1."
      ],
      "metadata": {
        "id": "vU0XGsdjXzNt"
      }
    },
    {
      "cell_type": "code",
      "source": [
        "print(arr)\n",
        "arr[arr%3==0]=-1\n",
        "print(\"After replacing all elements divisible by 3 with -1 :\\n\",arr)"
      ],
      "metadata": {
        "colab": {
          "base_uri": "https://localhost:8080/"
        },
        "id": "5WJjRoz0g-Zv",
        "outputId": "a4e2f92a-3c22-4ca7-f51b-0beee0af7760"
      },
      "execution_count": null,
      "outputs": [
        {
          "output_type": "stream",
          "name": "stdout",
          "text": [
            "[[[ 32  92  53  19  11]\n",
            "  [ 67  65  55   1  26]\n",
            "  [  7  39  91  87  43]\n",
            "  [  1  84 100   2   7]]\n",
            "\n",
            " [[ 46  37  93  65  99]\n",
            "  [ 15  98  33  85  45]\n",
            "  [ 64  67  84  16  42]\n",
            "  [ 52  52  18  46  45]]\n",
            "\n",
            " [[ 92  24  61  86  93]\n",
            "  [  9  68  44  19  77]\n",
            "  [ 70  40  83  50  82]\n",
            "  [  8  50  32  64  85]]]\n",
            "After replacing all elements divisible by 3 with -1 :\n",
            " [[[ 32  92  53  19  11]\n",
            "  [ 67  65  55   1  26]\n",
            "  [  7  -1  91  -1  43]\n",
            "  [  1  -1 100   2   7]]\n",
            "\n",
            " [[ 46  37  -1  65  -1]\n",
            "  [ -1  98  -1  85  -1]\n",
            "  [ 64  67  -1  16  -1]\n",
            "  [ 52  52  -1  46  -1]]\n",
            "\n",
            " [[ 92  -1  61  86  -1]\n",
            "  [ -1  68  44  19  77]\n",
            "  [ 70  40  83  50  82]\n",
            "  [  8  50  32  64  85]]]\n"
          ]
        }
      ]
    },
    {
      "cell_type": "markdown",
      "source": [
        "#10) Work with broadcasting and advanced operations in NumPy. Create a NumPy array arr of shape (3,3) with random integers between 1 and 20. Perform the following:"
      ],
      "metadata": {
        "id": "8h3DQXTKYBOO"
      }
    },
    {
      "cell_type": "code",
      "source": [
        "arr=np.random.randint(1,21,size=(3,3))\n",
        "print(arr)"
      ],
      "metadata": {
        "colab": {
          "base_uri": "https://localhost:8080/"
        },
        "id": "0_IePYE9hlEG",
        "outputId": "529458aa-bc22-4427-86b4-562fdf63a5bc"
      },
      "execution_count": null,
      "outputs": [
        {
          "output_type": "stream",
          "name": "stdout",
          "text": [
            "[[20  1 20]\n",
            " [13 10 15]\n",
            " [ 8 20 17]]\n"
          ]
        }
      ]
    },
    {
      "cell_type": "markdown",
      "source": [
        "##a) Subtract the mean of each row from its respective elements (row-wise normalization)"
      ],
      "metadata": {
        "id": "95hp6dUhZFU7"
      }
    },
    {
      "cell_type": "code",
      "source": [
        "print(arr)\n",
        "r_mean=arr.mean(axis=1,keepdims=True)\n",
        "norm_mean=arr-r_mean\n",
        "print(\"Row-wise Normalized mean :\\n\",norm_mean)"
      ],
      "metadata": {
        "colab": {
          "base_uri": "https://localhost:8080/"
        },
        "id": "WFMYNJSEjKbB",
        "outputId": "6d7f6be0-f024-4856-f124-5cebb5c2d329"
      },
      "execution_count": null,
      "outputs": [
        {
          "output_type": "stream",
          "name": "stdout",
          "text": [
            "[[20  1 20]\n",
            " [13 10 15]\n",
            " [ 8 20 17]]\n",
            "Row-wise Normalized mean :\n",
            " [[  6.33333333 -12.66666667   6.33333333]\n",
            " [  0.33333333  -2.66666667   2.33333333]\n",
            " [ -7.           5.           2.        ]]\n"
          ]
        }
      ]
    },
    {
      "cell_type": "markdown",
      "source": [
        "##b) Create a new array by squaring all the elements in arr."
      ],
      "metadata": {
        "id": "kPrrM97GZgOp"
      }
    },
    {
      "cell_type": "code",
      "source": [
        "print(arr)\n",
        "arr2=np.power(arr,2)\n",
        "print(arr2)"
      ],
      "metadata": {
        "colab": {
          "base_uri": "https://localhost:8080/"
        },
        "id": "at4YmPpsh2nH",
        "outputId": "c1d863e4-fc5c-485c-8bf0-77cb166a7973"
      },
      "execution_count": null,
      "outputs": [
        {
          "output_type": "stream",
          "name": "stdout",
          "text": [
            "[[20  1 20]\n",
            " [13 10 15]\n",
            " [ 8 20 17]]\n",
            "[[400   1 400]\n",
            " [169 100 225]\n",
            " [ 64 400 289]]\n"
          ]
        }
      ]
    },
    {
      "cell_type": "markdown",
      "source": [
        "##c) Find the indicies of the top 3 maximum values in the entire array."
      ],
      "metadata": {
        "id": "f4CUMivhZrVS"
      }
    },
    {
      "cell_type": "code",
      "source": [
        "print(arr)\n",
        "f_arr=arr.flatten()\n",
        "s_arr=np.argsort(f_arr)[6:]\n",
        "r=s_arr//arr.shape[1]\n",
        "c=s_arr%arr.shape[1]\n",
        "top3=list(zip(r,c))\n",
        "print(\"Top 3 maximum values indicies :\\n\",top3)"
      ],
      "metadata": {
        "colab": {
          "base_uri": "https://localhost:8080/"
        },
        "id": "_KR9VyoVZ5zR",
        "outputId": "b5b9e39b-f204-4e5f-9c24-fcd5aad65d7c"
      },
      "execution_count": null,
      "outputs": [
        {
          "output_type": "stream",
          "name": "stdout",
          "text": [
            "[[20  1 20]\n",
            " [13 10 15]\n",
            " [ 8 20 17]]\n",
            "Top 3 maximum values indicies :\n",
            " [(0, 0), (0, 2), (2, 1)]\n"
          ]
        }
      ]
    }
  ]
}