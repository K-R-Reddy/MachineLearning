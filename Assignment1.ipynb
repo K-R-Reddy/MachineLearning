{
  "nbformat": 4,
  "nbformat_minor": 0,
  "metadata": {
    "colab": {
      "provenance": [],
      "toc_visible": true,
      "authorship_tag": "ABX9TyMeIdPnxBAOxznYm165jcyW",
      "include_colab_link": true
    },
    "kernelspec": {
      "name": "python3",
      "display_name": "Python 3"
    },
    "language_info": {
      "name": "python"
    }
  },
  "cells": [
    {
      "cell_type": "markdown",
      "metadata": {
        "id": "view-in-github",
        "colab_type": "text"
      },
      "source": [
        "<a href=\"https://colab.research.google.com/github/K-R-Reddy/MachineLearning/blob/main/Assignment1.ipynb\" target=\"_parent\"><img src=\"https://colab.research.google.com/assets/colab-badge.svg\" alt=\"Open In Colab\"/></a>"
      ]
    },
    {
      "cell_type": "code",
      "execution_count": 1,
      "metadata": {
        "id": "JCl0GoIlBNq1"
      },
      "outputs": [],
      "source": [
        "import numpy as np"
      ]
    },
    {
      "cell_type": "markdown",
      "source": [
        "#1) Perform arithmetic operations on NumPy arrays."
      ],
      "metadata": {
        "id": "_RuDu8ciERMl"
      }
    },
    {
      "cell_type": "code",
      "source": [
        "a1=np.array([1,2,3,4,5])\n",
        "a2=np.array([6,7,8,9,10])\n",
        "print(\"Array 1 :\",a1,\"\\nArray 2 :\",a2)\n",
        "print(\"Addition :\",a1+a2)\n",
        "print(\"Subtraction :\",a1-a2)\n",
        "print(\"Multiplication :\",a1*a2)\n",
        "print(\"Division :\",a1/a2)\n",
        "print(\"Remainder :\",a1%a2)\n"
      ],
      "metadata": {
        "colab": {
          "base_uri": "https://localhost:8080/"
        },
        "id": "5zJBuRPJErVu",
        "outputId": "b2f35dbc-9c6a-434c-95f9-564f965f3b84"
      },
      "execution_count": 46,
      "outputs": [
        {
          "output_type": "stream",
          "name": "stdout",
          "text": [
            "Array 1 : [1 2 3 4 5] \n",
            "Array 2 : [ 6  7  8  9 10]\n",
            "Addition : [ 7  9 11 13 15]\n",
            "Subtraction : [-5 -5 -5 -5 -5]\n",
            "Multiplication : [ 6 14 24 36 50]\n",
            "Division : [0.16666667 0.28571429 0.375      0.44444444 0.5       ]\n",
            "Remainder : [1 2 3 4 5]\n"
          ]
        }
      ]
    },
    {
      "cell_type": "markdown",
      "source": [
        "#2) Write a script to compute the mean and standard deviation of a NumPy array."
      ],
      "metadata": {
        "id": "czT_zMu1FWKX"
      }
    },
    {
      "cell_type": "code",
      "source": [
        "a3=np.array([1,2,3,4,5])\n",
        "m=np.mean(a3)\n",
        "s=np.std(a3)\n",
        "print(\"Array :\",a3)\n",
        "print(\"Mean :\",m)\n",
        "print(\"Standard deviation : \",s)"
      ],
      "metadata": {
        "colab": {
          "base_uri": "https://localhost:8080/"
        },
        "id": "zi_Ro-r6FoMo",
        "outputId": "74f737e5-8179-4ac9-b171-a65addbf84eb"
      },
      "execution_count": 11,
      "outputs": [
        {
          "output_type": "stream",
          "name": "stdout",
          "text": [
            "Array : [1 2 3 4 5]\n",
            "Mean : 3.0\n",
            "Standard deviation :  1.4142135623730951\n"
          ]
        }
      ]
    },
    {
      "cell_type": "markdown",
      "source": [
        "#3) Create a NumPy array of integers from 10 to 50 with a step size of 5."
      ],
      "metadata": {
        "id": "KLYt_6p_IFUM"
      }
    },
    {
      "cell_type": "code",
      "source": [
        "a4=np.array(range(10,51,5))\n",
        "print(\"Array :\",a4)"
      ],
      "metadata": {
        "colab": {
          "base_uri": "https://localhost:8080/"
        },
        "id": "MRgcXqkRJPhL",
        "outputId": "063640ca-cecc-41ad-afd1-3ee04e434b47"
      },
      "execution_count": 21,
      "outputs": [
        {
          "output_type": "stream",
          "name": "stdout",
          "text": [
            "Array : [10 15 20 25 30 35 40 45 50]\n"
          ]
        }
      ]
    },
    {
      "cell_type": "markdown",
      "source": [
        "#4) Reshape the array into a 2x4 matrix\n"
      ],
      "metadata": {
        "id": "3B6CzrW2JyLA"
      }
    },
    {
      "cell_type": "code",
      "source": [
        "a5=np.array([1,2,3,4,5,6,7,8])\n",
        "print(\"Array :\",a5)\n",
        "ra5=a5.reshape(2,4)\n",
        "print(\"After reshape Array :\\n\",ra5)"
      ],
      "metadata": {
        "colab": {
          "base_uri": "https://localhost:8080/"
        },
        "id": "VrvTA3g_KFnR",
        "outputId": "4a844f1a-b18a-4638-90a4-e15391a59cb4"
      },
      "execution_count": 19,
      "outputs": [
        {
          "output_type": "stream",
          "name": "stdout",
          "text": [
            "Array : [1 2 3 4 5 6 7 8]\n",
            "After reshape Array :\n",
            " [[1 2 3 4]\n",
            " [5 6 7 8]]\n"
          ]
        }
      ]
    },
    {
      "cell_type": "markdown",
      "source": [
        "#5) Given the arr=np.array([[1,2,3],[4,5,6],[7,8,9]]):"
      ],
      "metadata": {
        "id": "ccciiEnMLRup"
      }
    },
    {
      "cell_type": "code",
      "source": [
        "arr=np.array([[1,2,3],[4,5,6],[7,8,9]])"
      ],
      "metadata": {
        "id": "JtbWNU5cMzZN"
      },
      "execution_count": 37,
      "outputs": []
    },
    {
      "cell_type": "markdown",
      "source": [
        "##a) Extract the sub-matrix containing the last two rows and first two columns."
      ],
      "metadata": {
        "id": "LGsLl_hDLogy"
      }
    },
    {
      "cell_type": "code",
      "source": [
        "sm=arr[1: , :2]\n",
        "print(\"Matrix :\\n\",arr)\n",
        "print(\"Sub Matrix :\\n\",sm)"
      ],
      "metadata": {
        "colab": {
          "base_uri": "https://localhost:8080/"
        },
        "id": "wq5LzsLmMOkR",
        "outputId": "f72c21fd-93b7-4f09-f3bc-0d97f51ff5bc"
      },
      "execution_count": 25,
      "outputs": [
        {
          "output_type": "stream",
          "name": "stdout",
          "text": [
            "Matrix :\n",
            " [[1 2 3]\n",
            " [4 5 6]\n",
            " [7 8 9]]\n",
            "Sub Matrix :\n",
            " [[4 5]\n",
            " [7 8]]\n"
          ]
        }
      ]
    },
    {
      "cell_type": "markdown",
      "source": [
        "##b) Replace all elements greater than 4 and 0."
      ],
      "metadata": {
        "id": "fnrjzmmDNwQ0"
      }
    },
    {
      "cell_type": "code",
      "source": [
        "arr[arr>4]=0\n",
        "print(\"After Replacing with Zeros :\")\n",
        "print(arr)"
      ],
      "metadata": {
        "colab": {
          "base_uri": "https://localhost:8080/"
        },
        "id": "F9RYZ9SmOD5F",
        "outputId": "3ff55f5c-8468-46c5-ba1f-ad959abe03a3"
      },
      "execution_count": 39,
      "outputs": [
        {
          "output_type": "stream",
          "name": "stdout",
          "text": [
            "After Replacing with Zeros :\n",
            "[[1 2 3]\n",
            " [4 0 0]\n",
            " [0 0 0]]\n"
          ]
        }
      ]
    },
    {
      "cell_type": "markdown",
      "source": [
        "#6) Create two 1D arrays:\n",
        "####a=np.array([1,2,3])\n",
        "####b=np.array([4,5,6])\n",
        "#Perform element-wise addition, multiplication, and division."
      ],
      "metadata": {
        "id": "3N4XBvJsQ5o-"
      }
    },
    {
      "cell_type": "code",
      "source": [
        "a=np.array([1,2,3])\n",
        "b=np.array([4,5,6])\n",
        "print(\"Array 1 :\",a,\"\\nArray 2 :\",b)\n",
        "print(\"Addition :\",np.add(a,b))\n",
        "print(\"Subraction :\",np.subtract(a,b))\n",
        "print(\"Division :\",np.divide(a,b))"
      ],
      "metadata": {
        "colab": {
          "base_uri": "https://localhost:8080/"
        },
        "id": "VUy4GK7VReKE",
        "outputId": "a71ef6d0-2755-4c4b-f142-a5394bd339b7"
      },
      "execution_count": 43,
      "outputs": [
        {
          "output_type": "stream",
          "name": "stdout",
          "text": [
            "Array 1 : [1 2 3] \n",
            "Array 2 : [4 5 6]\n",
            "Addition : [5 7 9]\n",
            "Subraction : [-3 -3 -3]\n",
            "Division : [0.25 0.4  0.5 ]\n"
          ]
        }
      ]
    },
    {
      "cell_type": "markdown",
      "source": [
        "#7) Create a random NumPy array of size(4,4).Compute:"
      ],
      "metadata": {
        "id": "Uy-wnUQ8Rk_A"
      }
    },
    {
      "cell_type": "code",
      "source": [
        "a7=np.random.rand(4,4)\n",
        "print(a7)"
      ],
      "metadata": {
        "colab": {
          "base_uri": "https://localhost:8080/"
        },
        "id": "L4y_Hg4taU72",
        "outputId": "eff3fa3c-5709-4c24-86be-bb28ae873a59"
      },
      "execution_count": 48,
      "outputs": [
        {
          "output_type": "stream",
          "name": "stdout",
          "text": [
            "[[0.01099714 0.63892045 0.27811307 0.09963669]\n",
            " [0.06780047 0.66645577 0.46147728 0.63378671]\n",
            " [0.06302835 0.01235678 0.11759742 0.24237085]\n",
            " [0.57000187 0.82111674 0.87097537 0.18457777]]\n"
          ]
        }
      ]
    },
    {
      "cell_type": "markdown",
      "source": [
        "##a) Mean of each column"
      ],
      "metadata": {
        "id": "O7OCe_RXVpZW"
      }
    },
    {
      "cell_type": "code",
      "source": [
        "m2=np.mean(a7,axis=0)\n",
        "print(\"Mean :\",m2)"
      ],
      "metadata": {
        "colab": {
          "base_uri": "https://localhost:8080/"
        },
        "id": "xyO7NMU3ak1H",
        "outputId": "aa27ec05-bac4-4df9-cb09-1bbd92ab5efb"
      },
      "execution_count": 57,
      "outputs": [
        {
          "output_type": "stream",
          "name": "stdout",
          "text": [
            "Mean : [0.17795695 0.53471243 0.43204079 0.290093  ]\n"
          ]
        }
      ]
    },
    {
      "cell_type": "markdown",
      "source": [
        "##b) Maximum value of the entire array."
      ],
      "metadata": {
        "id": "A-r_LU9fVwk1"
      }
    },
    {
      "cell_type": "code",
      "source": [
        "max_value=np.max(a7)\n",
        "print(\"Maximum value of the entire array :\",max_value)"
      ],
      "metadata": {
        "colab": {
          "base_uri": "https://localhost:8080/"
        },
        "id": "lOqz_puRbl7H",
        "outputId": "41903c41-e886-441e-defe-95fec6d6b869"
      },
      "execution_count": 58,
      "outputs": [
        {
          "output_type": "stream",
          "name": "stdout",
          "text": [
            "Maximum value of the entire array : 0.870975372722606\n"
          ]
        }
      ]
    },
    {
      "cell_type": "markdown",
      "source": [
        "##c) Sum of all elements."
      ],
      "metadata": {
        "id": "tcnNDRXTV7N1"
      }
    },
    {
      "cell_type": "code",
      "source": [
        "sum_ele = np.sum(a7)\n",
        "print(\"Sum of all elements:\", sum_ele)"
      ],
      "metadata": {
        "colab": {
          "base_uri": "https://localhost:8080/"
        },
        "id": "QmLcBCCTbDxX",
        "outputId": "d391cc3d-52df-42a7-db80-6d8c96de1896"
      },
      "execution_count": 72,
      "outputs": [
        {
          "output_type": "stream",
          "name": "stdout",
          "text": [
            "Sum of all elements: 5.739212707398519\n"
          ]
        }
      ]
    },
    {
      "cell_type": "markdown",
      "source": [
        "#8) Given the array arr=np.array([1,2,3,4]), add 10 to each element and multipy the result by 2."
      ],
      "metadata": {
        "id": "PPaiXgubWBRR"
      }
    },
    {
      "cell_type": "code",
      "source": [
        "arr=np.array([1,2,3,4])\n",
        "print(\"Array :\",arr)\n",
        "arr=(arr+10)*2\n",
        "print(\"After adding 10 to each element and multipy the result by 2 :\",arr)"
      ],
      "metadata": {
        "colab": {
          "base_uri": "https://localhost:8080/"
        },
        "id": "t05KDp4ccK2y",
        "outputId": "e419cc9d-db87-4cfa-af8b-692243789ce5"
      },
      "execution_count": 62,
      "outputs": [
        {
          "output_type": "stream",
          "name": "stdout",
          "text": [
            "Array : [1 2 3 4]\n",
            "After adding 10 to each element and multipy the result by 2 : [22 24 26 28]\n"
          ]
        }
      ]
    },
    {
      "cell_type": "markdown",
      "source": [
        "#9) Perform advanced slicing and indexing on a 3D array. Create a 3D NumPy array arr of shape (3,4,5) with random integers ranging from 1 to 100. Perform the following:"
      ],
      "metadata": {
        "id": "S_5AhqtIWeVa"
      }
    },
    {
      "cell_type": "code",
      "source": [
        "arr=np.random.randint(1,101,size=(3,4,5))"
      ],
      "metadata": {
        "colab": {
          "base_uri": "https://localhost:8080/"
        },
        "id": "2F3jFE6WdtQR",
        "outputId": "d80de65f-620d-47f1-db53-83c14130bf52"
      },
      "execution_count": 63,
      "outputs": [
        {
          "output_type": "stream",
          "name": "stdout",
          "text": [
            "[[[ 20  59  74  41  87]\n",
            "  [ 26   5  59  37   3]\n",
            "  [ 46  22  65  96  88]\n",
            "  [ 27  40  26  75  29]]\n",
            "\n",
            " [[ 81  74  20  71  86]\n",
            "  [ 78  53  97  40  98]\n",
            "  [ 39  78  51 100  55]\n",
            "  [ 78  82  59   1  40]]\n",
            "\n",
            " [[ 88  85  62   1  54]\n",
            "  [ 38  91  25  76  75]\n",
            "  [ 96  72  76  63  13]\n",
            "  [ 40  11  57  66  48]]]\n"
          ]
        }
      ]
    },
    {
      "cell_type": "markdown",
      "source": [
        "##a) Extract the second \"layer\" (i.e., the second 2D array) in the first first dimension.\n"
      ],
      "metadata": {
        "id": "rzncmQLlXEGr"
      }
    },
    {
      "cell_type": "code",
      "source": [
        "print(\"Array :\\n\",arr)\n",
        "print(\"The Second Layer of Array :\\n\",arr[1])"
      ],
      "metadata": {
        "colab": {
          "base_uri": "https://localhost:8080/"
        },
        "id": "cydtQBX6eIBW",
        "outputId": "04c02e30-9ed7-4741-d6c2-e47363984709"
      },
      "execution_count": 64,
      "outputs": [
        {
          "output_type": "stream",
          "name": "stdout",
          "text": [
            "Array :\n",
            " [[[ 20  59  74  41  87]\n",
            "  [ 26   5  59  37   3]\n",
            "  [ 46  22  65  96  88]\n",
            "  [ 27  40  26  75  29]]\n",
            "\n",
            " [[ 81  74  20  71  86]\n",
            "  [ 78  53  97  40  98]\n",
            "  [ 39  78  51 100  55]\n",
            "  [ 78  82  59   1  40]]\n",
            "\n",
            " [[ 88  85  62   1  54]\n",
            "  [ 38  91  25  76  75]\n",
            "  [ 96  72  76  63  13]\n",
            "  [ 40  11  57  66  48]]]\n",
            "The Second Layer of Array :\n",
            " [[ 81  74  20  71  86]\n",
            " [ 78  53  97  40  98]\n",
            " [ 39  78  51 100  55]\n",
            " [ 78  82  59   1  40]]\n"
          ]
        }
      ]
    },
    {
      "cell_type": "markdown",
      "source": [
        "##b) Extract the first two rows and the last three columns from each \"layer\"."
      ],
      "metadata": {
        "id": "QNq10KVHXZDh"
      }
    },
    {
      "cell_type": "code",
      "source": [
        "print(\"Array :\\n\",arr)\n",
        "sarr=arr[:,:2,2:]\n",
        "print(\"The first two rows and the last three columns from each layer of Array :\\n\",sarr)"
      ],
      "metadata": {
        "colab": {
          "base_uri": "https://localhost:8080/"
        },
        "id": "9kTpq2lweeB6",
        "outputId": "83b5b646-561c-4eb2-c155-deda42592af0"
      },
      "execution_count": 68,
      "outputs": [
        {
          "output_type": "stream",
          "name": "stdout",
          "text": [
            "Array :\n",
            " [[[ 20  59  74  41  87]\n",
            "  [ 26   5  59  37   3]\n",
            "  [ 46  22  65  96  88]\n",
            "  [ 27  40  26  75  29]]\n",
            "\n",
            " [[ 81  74  20  71  86]\n",
            "  [ 78  53  97  40  98]\n",
            "  [ 39  78  51 100  55]\n",
            "  [ 78  82  59   1  40]]\n",
            "\n",
            " [[ 88  85  62   1  54]\n",
            "  [ 38  91  25  76  75]\n",
            "  [ 96  72  76  63  13]\n",
            "  [ 40  11  57  66  48]]]\n",
            "The first two rows and the last three columns from each layer of Array :\n",
            " [[[74 41 87]\n",
            "  [59 37  3]]\n",
            "\n",
            " [[20 71 86]\n",
            "  [97 40 98]]\n",
            "\n",
            " [[62  1 54]\n",
            "  [25 76 75]]]\n"
          ]
        }
      ]
    },
    {
      "cell_type": "markdown",
      "source": [
        "##c) Replace all elements divisible by 3 with -1."
      ],
      "metadata": {
        "id": "vU0XGsdjXzNt"
      }
    },
    {
      "cell_type": "code",
      "source": [
        "print(arr)\n",
        "arr[arr%3==0]=-1\n",
        "print(\"After replacing all elements divisible by 3 with -1 :\\n\",arr)"
      ],
      "metadata": {
        "colab": {
          "base_uri": "https://localhost:8080/"
        },
        "id": "5WJjRoz0g-Zv",
        "outputId": "3cd767fc-5bdb-440d-b780-63f7951b935e"
      },
      "execution_count": 69,
      "outputs": [
        {
          "output_type": "stream",
          "name": "stdout",
          "text": [
            "[[[ 20  59  74  41  87]\n",
            "  [ 26   5  59  37   3]\n",
            "  [ 46  22  65  96  88]\n",
            "  [ 27  40  26  75  29]]\n",
            "\n",
            " [[ 81  74  20  71  86]\n",
            "  [ 78  53  97  40  98]\n",
            "  [ 39  78  51 100  55]\n",
            "  [ 78  82  59   1  40]]\n",
            "\n",
            " [[ 88  85  62   1  54]\n",
            "  [ 38  91  25  76  75]\n",
            "  [ 96  72  76  63  13]\n",
            "  [ 40  11  57  66  48]]]\n",
            "After replacing all elements divisible by 3 with -1 :\n",
            " [[[ 20  59  74  41  -1]\n",
            "  [ 26   5  59  37  -1]\n",
            "  [ 46  22  65  -1  88]\n",
            "  [ -1  40  26  -1  29]]\n",
            "\n",
            " [[ -1  74  20  71  86]\n",
            "  [ -1  53  97  40  98]\n",
            "  [ -1  -1  -1 100  55]\n",
            "  [ -1  82  59   1  40]]\n",
            "\n",
            " [[ 88  85  62   1  -1]\n",
            "  [ 38  91  25  76  -1]\n",
            "  [ -1  -1  76  -1  13]\n",
            "  [ 40  11  -1  -1  -1]]]\n"
          ]
        }
      ]
    },
    {
      "cell_type": "markdown",
      "source": [
        "#10) Work with broadcasting and advanced operations in NumPy. Create a NumPy array arr of shape (3,3) with random integers between 1 and 20. Perform the following:"
      ],
      "metadata": {
        "id": "8h3DQXTKYBOO"
      }
    },
    {
      "cell_type": "code",
      "source": [
        "arr=np.random.randint(1,21,size=(3,3))\n",
        "print(arr)"
      ],
      "metadata": {
        "colab": {
          "base_uri": "https://localhost:8080/"
        },
        "id": "0_IePYE9hlEG",
        "outputId": "74e680fb-b03a-4808-8052-f0458267d34b"
      },
      "execution_count": 70,
      "outputs": [
        {
          "output_type": "stream",
          "name": "stdout",
          "text": [
            "[[ 2 11 12]\n",
            " [10  7 16]\n",
            " [15 20 14]]\n"
          ]
        }
      ]
    },
    {
      "cell_type": "markdown",
      "source": [
        "##a) Subtract the mean of each row from its respective elements (row-wise normalization)"
      ],
      "metadata": {
        "id": "95hp6dUhZFU7"
      }
    },
    {
      "cell_type": "code",
      "source": [
        "print(arr)\n",
        "r_mean=arr.mean(axis=1,keepdims=True)\n",
        "norm_mean=arr-r_mean\n",
        "print(\"Row-wise Normalized mean :\\n\",norm_mean)"
      ],
      "metadata": {
        "colab": {
          "base_uri": "https://localhost:8080/"
        },
        "id": "WFMYNJSEjKbB",
        "outputId": "27a3a290-01de-4f82-e705-0d290820db33"
      },
      "execution_count": 74,
      "outputs": [
        {
          "output_type": "stream",
          "name": "stdout",
          "text": [
            "[[ 2 11 12]\n",
            " [10  7 16]\n",
            " [15 20 14]]\n",
            "Row-wise Normalized mean :\n",
            " [[-6.33333333  2.66666667  3.66666667]\n",
            " [-1.         -4.          5.        ]\n",
            " [-1.33333333  3.66666667 -2.33333333]]\n"
          ]
        }
      ]
    },
    {
      "cell_type": "markdown",
      "source": [
        "##b) Create a new array by squaring all the elements in arr."
      ],
      "metadata": {
        "id": "kPrrM97GZgOp"
      }
    },
    {
      "cell_type": "code",
      "source": [
        "print(arr)\n",
        "arr2=np.power(arr,2)\n",
        "print(arr2)"
      ],
      "metadata": {
        "colab": {
          "base_uri": "https://localhost:8080/"
        },
        "id": "at4YmPpsh2nH",
        "outputId": "f940d4ec-5533-4990-ccc3-4ebdcfddc137"
      },
      "execution_count": 71,
      "outputs": [
        {
          "output_type": "stream",
          "name": "stdout",
          "text": [
            "[[ 2 11 12]\n",
            " [10  7 16]\n",
            " [15 20 14]]\n",
            "[[  4 121 144]\n",
            " [100  49 256]\n",
            " [225 400 196]]\n"
          ]
        }
      ]
    },
    {
      "cell_type": "markdown",
      "source": [
        "##c) Find the indicies of the top 3 maximum values in the entire array."
      ],
      "metadata": {
        "id": "f4CUMivhZrVS"
      }
    },
    {
      "cell_type": "code",
      "source": [
        "print(arr)\n",
        "f_arr=arr.flatten()\n",
        "s_arr=np.argsort(f_arr)[6:]\n",
        "r=s_arr//arr.shape[1]\n",
        "c=s_arr%arr.shape[1]\n",
        "top3=list(zip(r,c))\n",
        "print(\"Top 3 maximum values indicies :\\n\",top3)"
      ],
      "metadata": {
        "colab": {
          "base_uri": "https://localhost:8080/"
        },
        "id": "_KR9VyoVZ5zR",
        "outputId": "2793942b-ba26-4f35-b4d6-b037d9b668e8"
      },
      "execution_count": 81,
      "outputs": [
        {
          "output_type": "stream",
          "name": "stdout",
          "text": [
            "[[ 2 11 12]\n",
            " [10  7 16]\n",
            " [15 20 14]]\n",
            "Top 3 maximum values indicies :\n",
            " [(2, 0), (1, 2), (2, 1)]\n"
          ]
        }
      ]
    }
  ]
}