{
  "nbformat": 4,
  "nbformat_minor": 0,
  "metadata": {
    "colab": {
      "provenance": [],
      "toc_visible": true,
      "authorship_tag": "ABX9TyM17FfGwb9T8nIqlDMJyBWM",
      "include_colab_link": true
    },
    "kernelspec": {
      "name": "python3",
      "display_name": "Python 3"
    },
    "language_info": {
      "name": "python"
    }
  },
  "cells": [
    {
      "cell_type": "markdown",
      "metadata": {
        "id": "view-in-github",
        "colab_type": "text"
      },
      "source": [
        "<a href=\"https://colab.research.google.com/github/K-R-Reddy/MachineLearning/blob/main/Classification_on_seeds_dataset.ipynb\" target=\"_parent\"><img src=\"https://colab.research.google.com/assets/colab-badge.svg\" alt=\"Open In Colab\"/></a>"
      ]
    },
    {
      "cell_type": "markdown",
      "source": [
        "#Classification Models: Seeds Dataset\n",
        "This notebook builds multiple classification models to predict the Class of the seed (Type)\n",
        "\n",
        "###Steps:\n",
        "Load and explore the dataset.<br>\n",
        "Clean and preprocess the data.<br>\n",
        "Train the following classification models:<br>\n",
        "Logistic Regression<br>\n",
        "Naïve Bayes<br>\n",
        "KNN<br>\n",
        "Decision Tree<br>\n",
        "Support Vector Classifier<br>\n",
        "Evaluate models using metrics: Accuracy, Precision, Recall, and F1-Score."
      ],
      "metadata": {
        "id": "VH3MGpglDrob"
      }
    },
    {
      "cell_type": "code",
      "source": [
        "import pandas as pd\n",
        "import numpy as np\n",
        "from sklearn.preprocessing import StandardScaler, LabelEncoder\n",
        "from sklearn.model_selection import train_test_split\n",
        "from sklearn.linear_model import LogisticRegression\n",
        "from sklearn.naive_bayes import GaussianNB\n",
        "from sklearn.neighbors import KNeighborsClassifier\n",
        "from sklearn.tree import DecisionTreeClassifier\n",
        "from sklearn.svm import SVC\n",
        "from sklearn.metrics import accuracy_score, precision_score, recall_score,classification_report,f1_score, confusion_matrix"
      ],
      "metadata": {
        "id": "kZJyNmoyOtsK"
      },
      "execution_count": 34,
      "outputs": []
    },
    {
      "cell_type": "code",
      "source": [
        "file_path = '/content/seeds_dataset.csv'\n",
        "data = pd.read_csv(file_path)\n",
        "data"
      ],
      "metadata": {
        "colab": {
          "base_uri": "https://localhost:8080/",
          "height": 444
        },
        "id": "RSdnkRqZE-pj",
        "outputId": "5b55fb11-835d-4fed-c25e-fef1ee420938"
      },
      "execution_count": 35,
      "outputs": [
        {
          "output_type": "execute_result",
          "data": {
            "text/plain": [
              "      Area  Perimeter  Compactness  ...  Asymmetry_coefficient  Length_of_kernel_groove  Class(1,2,3)\n",
              "0    15.26      14.84       0.8710  ...                  2.221                    5.220             1\n",
              "1    14.88      14.57       0.8811  ...                  1.018                    4.956             1\n",
              "2    14.29      14.09       0.9050  ...                  2.699                    4.825             1\n",
              "3    13.84      13.94       0.8955  ...                  2.259                    4.805             1\n",
              "4    16.14      14.99       0.9034  ...                  1.355                    5.175             1\n",
              "..     ...        ...          ...  ...                    ...                      ...           ...\n",
              "205  12.19      13.20       0.8783  ...                  3.631                    4.870             3\n",
              "206  11.23      12.88       0.8511  ...                  4.325                    5.003             3\n",
              "207  13.20      13.66       0.8883  ...                  8.315                    5.056             3\n",
              "208  11.84      13.21       0.8521  ...                  3.598                    5.044             3\n",
              "209  12.30      13.34       0.8684  ...                  5.637                    5.063             3\n",
              "\n",
              "[210 rows x 8 columns]"
            ],
            "text/html": [
              "\n",
              "  <div id=\"df-4f348e6c-5e42-4b99-ab89-f77e75e44e4a\" class=\"colab-df-container\">\n",
              "    <div>\n",
              "<style scoped>\n",
              "    .dataframe tbody tr th:only-of-type {\n",
              "        vertical-align: middle;\n",
              "    }\n",
              "\n",
              "    .dataframe tbody tr th {\n",
              "        vertical-align: top;\n",
              "    }\n",
              "\n",
              "    .dataframe thead th {\n",
              "        text-align: right;\n",
              "    }\n",
              "</style>\n",
              "<table border=\"1\" class=\"dataframe\">\n",
              "  <thead>\n",
              "    <tr style=\"text-align: right;\">\n",
              "      <th></th>\n",
              "      <th>Area</th>\n",
              "      <th>Perimeter</th>\n",
              "      <th>Compactness</th>\n",
              "      <th>Lenght_of_Kernel</th>\n",
              "      <th>Width_of_Kernel</th>\n",
              "      <th>Asymmetry_coefficient</th>\n",
              "      <th>Length_of_kernel_groove</th>\n",
              "      <th>Class(1,2,3)</th>\n",
              "    </tr>\n",
              "  </thead>\n",
              "  <tbody>\n",
              "    <tr>\n",
              "      <th>0</th>\n",
              "      <td>15.26</td>\n",
              "      <td>14.84</td>\n",
              "      <td>0.8710</td>\n",
              "      <td>5.763</td>\n",
              "      <td>3.312</td>\n",
              "      <td>2.221</td>\n",
              "      <td>5.220</td>\n",
              "      <td>1</td>\n",
              "    </tr>\n",
              "    <tr>\n",
              "      <th>1</th>\n",
              "      <td>14.88</td>\n",
              "      <td>14.57</td>\n",
              "      <td>0.8811</td>\n",
              "      <td>5.554</td>\n",
              "      <td>3.333</td>\n",
              "      <td>1.018</td>\n",
              "      <td>4.956</td>\n",
              "      <td>1</td>\n",
              "    </tr>\n",
              "    <tr>\n",
              "      <th>2</th>\n",
              "      <td>14.29</td>\n",
              "      <td>14.09</td>\n",
              "      <td>0.9050</td>\n",
              "      <td>5.291</td>\n",
              "      <td>3.337</td>\n",
              "      <td>2.699</td>\n",
              "      <td>4.825</td>\n",
              "      <td>1</td>\n",
              "    </tr>\n",
              "    <tr>\n",
              "      <th>3</th>\n",
              "      <td>13.84</td>\n",
              "      <td>13.94</td>\n",
              "      <td>0.8955</td>\n",
              "      <td>5.324</td>\n",
              "      <td>3.379</td>\n",
              "      <td>2.259</td>\n",
              "      <td>4.805</td>\n",
              "      <td>1</td>\n",
              "    </tr>\n",
              "    <tr>\n",
              "      <th>4</th>\n",
              "      <td>16.14</td>\n",
              "      <td>14.99</td>\n",
              "      <td>0.9034</td>\n",
              "      <td>5.658</td>\n",
              "      <td>3.562</td>\n",
              "      <td>1.355</td>\n",
              "      <td>5.175</td>\n",
              "      <td>1</td>\n",
              "    </tr>\n",
              "    <tr>\n",
              "      <th>...</th>\n",
              "      <td>...</td>\n",
              "      <td>...</td>\n",
              "      <td>...</td>\n",
              "      <td>...</td>\n",
              "      <td>...</td>\n",
              "      <td>...</td>\n",
              "      <td>...</td>\n",
              "      <td>...</td>\n",
              "    </tr>\n",
              "    <tr>\n",
              "      <th>205</th>\n",
              "      <td>12.19</td>\n",
              "      <td>13.20</td>\n",
              "      <td>0.8783</td>\n",
              "      <td>5.137</td>\n",
              "      <td>2.981</td>\n",
              "      <td>3.631</td>\n",
              "      <td>4.870</td>\n",
              "      <td>3</td>\n",
              "    </tr>\n",
              "    <tr>\n",
              "      <th>206</th>\n",
              "      <td>11.23</td>\n",
              "      <td>12.88</td>\n",
              "      <td>0.8511</td>\n",
              "      <td>5.140</td>\n",
              "      <td>2.795</td>\n",
              "      <td>4.325</td>\n",
              "      <td>5.003</td>\n",
              "      <td>3</td>\n",
              "    </tr>\n",
              "    <tr>\n",
              "      <th>207</th>\n",
              "      <td>13.20</td>\n",
              "      <td>13.66</td>\n",
              "      <td>0.8883</td>\n",
              "      <td>5.236</td>\n",
              "      <td>3.232</td>\n",
              "      <td>8.315</td>\n",
              "      <td>5.056</td>\n",
              "      <td>3</td>\n",
              "    </tr>\n",
              "    <tr>\n",
              "      <th>208</th>\n",
              "      <td>11.84</td>\n",
              "      <td>13.21</td>\n",
              "      <td>0.8521</td>\n",
              "      <td>5.175</td>\n",
              "      <td>2.836</td>\n",
              "      <td>3.598</td>\n",
              "      <td>5.044</td>\n",
              "      <td>3</td>\n",
              "    </tr>\n",
              "    <tr>\n",
              "      <th>209</th>\n",
              "      <td>12.30</td>\n",
              "      <td>13.34</td>\n",
              "      <td>0.8684</td>\n",
              "      <td>5.243</td>\n",
              "      <td>2.974</td>\n",
              "      <td>5.637</td>\n",
              "      <td>5.063</td>\n",
              "      <td>3</td>\n",
              "    </tr>\n",
              "  </tbody>\n",
              "</table>\n",
              "<p>210 rows × 8 columns</p>\n",
              "</div>\n",
              "    <div class=\"colab-df-buttons\">\n",
              "\n",
              "  <div class=\"colab-df-container\">\n",
              "    <button class=\"colab-df-convert\" onclick=\"convertToInteractive('df-4f348e6c-5e42-4b99-ab89-f77e75e44e4a')\"\n",
              "            title=\"Convert this dataframe to an interactive table.\"\n",
              "            style=\"display:none;\">\n",
              "\n",
              "  <svg xmlns=\"http://www.w3.org/2000/svg\" height=\"24px\" viewBox=\"0 -960 960 960\">\n",
              "    <path d=\"M120-120v-720h720v720H120Zm60-500h600v-160H180v160Zm220 220h160v-160H400v160Zm0 220h160v-160H400v160ZM180-400h160v-160H180v160Zm440 0h160v-160H620v160ZM180-180h160v-160H180v160Zm440 0h160v-160H620v160Z\"/>\n",
              "  </svg>\n",
              "    </button>\n",
              "\n",
              "  <style>\n",
              "    .colab-df-container {\n",
              "      display:flex;\n",
              "      gap: 12px;\n",
              "    }\n",
              "\n",
              "    .colab-df-convert {\n",
              "      background-color: #E8F0FE;\n",
              "      border: none;\n",
              "      border-radius: 50%;\n",
              "      cursor: pointer;\n",
              "      display: none;\n",
              "      fill: #1967D2;\n",
              "      height: 32px;\n",
              "      padding: 0 0 0 0;\n",
              "      width: 32px;\n",
              "    }\n",
              "\n",
              "    .colab-df-convert:hover {\n",
              "      background-color: #E2EBFA;\n",
              "      box-shadow: 0px 1px 2px rgba(60, 64, 67, 0.3), 0px 1px 3px 1px rgba(60, 64, 67, 0.15);\n",
              "      fill: #174EA6;\n",
              "    }\n",
              "\n",
              "    .colab-df-buttons div {\n",
              "      margin-bottom: 4px;\n",
              "    }\n",
              "\n",
              "    [theme=dark] .colab-df-convert {\n",
              "      background-color: #3B4455;\n",
              "      fill: #D2E3FC;\n",
              "    }\n",
              "\n",
              "    [theme=dark] .colab-df-convert:hover {\n",
              "      background-color: #434B5C;\n",
              "      box-shadow: 0px 1px 3px 1px rgba(0, 0, 0, 0.15);\n",
              "      filter: drop-shadow(0px 1px 2px rgba(0, 0, 0, 0.3));\n",
              "      fill: #FFFFFF;\n",
              "    }\n",
              "  </style>\n",
              "\n",
              "    <script>\n",
              "      const buttonEl =\n",
              "        document.querySelector('#df-4f348e6c-5e42-4b99-ab89-f77e75e44e4a button.colab-df-convert');\n",
              "      buttonEl.style.display =\n",
              "        google.colab.kernel.accessAllowed ? 'block' : 'none';\n",
              "\n",
              "      async function convertToInteractive(key) {\n",
              "        const element = document.querySelector('#df-4f348e6c-5e42-4b99-ab89-f77e75e44e4a');\n",
              "        const dataTable =\n",
              "          await google.colab.kernel.invokeFunction('convertToInteractive',\n",
              "                                                    [key], {});\n",
              "        if (!dataTable) return;\n",
              "\n",
              "        const docLinkHtml = 'Like what you see? Visit the ' +\n",
              "          '<a target=\"_blank\" href=https://colab.research.google.com/notebooks/data_table.ipynb>data table notebook</a>'\n",
              "          + ' to learn more about interactive tables.';\n",
              "        element.innerHTML = '';\n",
              "        dataTable['output_type'] = 'display_data';\n",
              "        await google.colab.output.renderOutput(dataTable, element);\n",
              "        const docLink = document.createElement('div');\n",
              "        docLink.innerHTML = docLinkHtml;\n",
              "        element.appendChild(docLink);\n",
              "      }\n",
              "    </script>\n",
              "  </div>\n",
              "\n",
              "\n",
              "<div id=\"df-c64b54cc-faee-470c-bdfa-76d137e7f0a1\">\n",
              "  <button class=\"colab-df-quickchart\" onclick=\"quickchart('df-c64b54cc-faee-470c-bdfa-76d137e7f0a1')\"\n",
              "            title=\"Suggest charts\"\n",
              "            style=\"display:none;\">\n",
              "\n",
              "<svg xmlns=\"http://www.w3.org/2000/svg\" height=\"24px\"viewBox=\"0 0 24 24\"\n",
              "     width=\"24px\">\n",
              "    <g>\n",
              "        <path d=\"M19 3H5c-1.1 0-2 .9-2 2v14c0 1.1.9 2 2 2h14c1.1 0 2-.9 2-2V5c0-1.1-.9-2-2-2zM9 17H7v-7h2v7zm4 0h-2V7h2v10zm4 0h-2v-4h2v4z\"/>\n",
              "    </g>\n",
              "</svg>\n",
              "  </button>\n",
              "\n",
              "<style>\n",
              "  .colab-df-quickchart {\n",
              "      --bg-color: #E8F0FE;\n",
              "      --fill-color: #1967D2;\n",
              "      --hover-bg-color: #E2EBFA;\n",
              "      --hover-fill-color: #174EA6;\n",
              "      --disabled-fill-color: #AAA;\n",
              "      --disabled-bg-color: #DDD;\n",
              "  }\n",
              "\n",
              "  [theme=dark] .colab-df-quickchart {\n",
              "      --bg-color: #3B4455;\n",
              "      --fill-color: #D2E3FC;\n",
              "      --hover-bg-color: #434B5C;\n",
              "      --hover-fill-color: #FFFFFF;\n",
              "      --disabled-bg-color: #3B4455;\n",
              "      --disabled-fill-color: #666;\n",
              "  }\n",
              "\n",
              "  .colab-df-quickchart {\n",
              "    background-color: var(--bg-color);\n",
              "    border: none;\n",
              "    border-radius: 50%;\n",
              "    cursor: pointer;\n",
              "    display: none;\n",
              "    fill: var(--fill-color);\n",
              "    height: 32px;\n",
              "    padding: 0;\n",
              "    width: 32px;\n",
              "  }\n",
              "\n",
              "  .colab-df-quickchart:hover {\n",
              "    background-color: var(--hover-bg-color);\n",
              "    box-shadow: 0 1px 2px rgba(60, 64, 67, 0.3), 0 1px 3px 1px rgba(60, 64, 67, 0.15);\n",
              "    fill: var(--button-hover-fill-color);\n",
              "  }\n",
              "\n",
              "  .colab-df-quickchart-complete:disabled,\n",
              "  .colab-df-quickchart-complete:disabled:hover {\n",
              "    background-color: var(--disabled-bg-color);\n",
              "    fill: var(--disabled-fill-color);\n",
              "    box-shadow: none;\n",
              "  }\n",
              "\n",
              "  .colab-df-spinner {\n",
              "    border: 2px solid var(--fill-color);\n",
              "    border-color: transparent;\n",
              "    border-bottom-color: var(--fill-color);\n",
              "    animation:\n",
              "      spin 1s steps(1) infinite;\n",
              "  }\n",
              "\n",
              "  @keyframes spin {\n",
              "    0% {\n",
              "      border-color: transparent;\n",
              "      border-bottom-color: var(--fill-color);\n",
              "      border-left-color: var(--fill-color);\n",
              "    }\n",
              "    20% {\n",
              "      border-color: transparent;\n",
              "      border-left-color: var(--fill-color);\n",
              "      border-top-color: var(--fill-color);\n",
              "    }\n",
              "    30% {\n",
              "      border-color: transparent;\n",
              "      border-left-color: var(--fill-color);\n",
              "      border-top-color: var(--fill-color);\n",
              "      border-right-color: var(--fill-color);\n",
              "    }\n",
              "    40% {\n",
              "      border-color: transparent;\n",
              "      border-right-color: var(--fill-color);\n",
              "      border-top-color: var(--fill-color);\n",
              "    }\n",
              "    60% {\n",
              "      border-color: transparent;\n",
              "      border-right-color: var(--fill-color);\n",
              "    }\n",
              "    80% {\n",
              "      border-color: transparent;\n",
              "      border-right-color: var(--fill-color);\n",
              "      border-bottom-color: var(--fill-color);\n",
              "    }\n",
              "    90% {\n",
              "      border-color: transparent;\n",
              "      border-bottom-color: var(--fill-color);\n",
              "    }\n",
              "  }\n",
              "</style>\n",
              "\n",
              "  <script>\n",
              "    async function quickchart(key) {\n",
              "      const quickchartButtonEl =\n",
              "        document.querySelector('#' + key + ' button');\n",
              "      quickchartButtonEl.disabled = true;  // To prevent multiple clicks.\n",
              "      quickchartButtonEl.classList.add('colab-df-spinner');\n",
              "      try {\n",
              "        const charts = await google.colab.kernel.invokeFunction(\n",
              "            'suggestCharts', [key], {});\n",
              "      } catch (error) {\n",
              "        console.error('Error during call to suggestCharts:', error);\n",
              "      }\n",
              "      quickchartButtonEl.classList.remove('colab-df-spinner');\n",
              "      quickchartButtonEl.classList.add('colab-df-quickchart-complete');\n",
              "    }\n",
              "    (() => {\n",
              "      let quickchartButtonEl =\n",
              "        document.querySelector('#df-c64b54cc-faee-470c-bdfa-76d137e7f0a1 button');\n",
              "      quickchartButtonEl.style.display =\n",
              "        google.colab.kernel.accessAllowed ? 'block' : 'none';\n",
              "    })();\n",
              "  </script>\n",
              "</div>\n",
              "\n",
              "  <div id=\"id_b053bd79-c39e-4a63-862a-281a15682be7\">\n",
              "    <style>\n",
              "      .colab-df-generate {\n",
              "        background-color: #E8F0FE;\n",
              "        border: none;\n",
              "        border-radius: 50%;\n",
              "        cursor: pointer;\n",
              "        display: none;\n",
              "        fill: #1967D2;\n",
              "        height: 32px;\n",
              "        padding: 0 0 0 0;\n",
              "        width: 32px;\n",
              "      }\n",
              "\n",
              "      .colab-df-generate:hover {\n",
              "        background-color: #E2EBFA;\n",
              "        box-shadow: 0px 1px 2px rgba(60, 64, 67, 0.3), 0px 1px 3px 1px rgba(60, 64, 67, 0.15);\n",
              "        fill: #174EA6;\n",
              "      }\n",
              "\n",
              "      [theme=dark] .colab-df-generate {\n",
              "        background-color: #3B4455;\n",
              "        fill: #D2E3FC;\n",
              "      }\n",
              "\n",
              "      [theme=dark] .colab-df-generate:hover {\n",
              "        background-color: #434B5C;\n",
              "        box-shadow: 0px 1px 3px 1px rgba(0, 0, 0, 0.15);\n",
              "        filter: drop-shadow(0px 1px 2px rgba(0, 0, 0, 0.3));\n",
              "        fill: #FFFFFF;\n",
              "      }\n",
              "    </style>\n",
              "    <button class=\"colab-df-generate\" onclick=\"generateWithVariable('data')\"\n",
              "            title=\"Generate code using this dataframe.\"\n",
              "            style=\"display:none;\">\n",
              "\n",
              "  <svg xmlns=\"http://www.w3.org/2000/svg\" height=\"24px\"viewBox=\"0 0 24 24\"\n",
              "       width=\"24px\">\n",
              "    <path d=\"M7,19H8.4L18.45,9,17,7.55,7,17.6ZM5,21V16.75L18.45,3.32a2,2,0,0,1,2.83,0l1.4,1.43a1.91,1.91,0,0,1,.58,1.4,1.91,1.91,0,0,1-.58,1.4L9.25,21ZM18.45,9,17,7.55Zm-12,3A5.31,5.31,0,0,0,4.9,8.1,5.31,5.31,0,0,0,1,6.5,5.31,5.31,0,0,0,4.9,4.9,5.31,5.31,0,0,0,6.5,1,5.31,5.31,0,0,0,8.1,4.9,5.31,5.31,0,0,0,12,6.5,5.46,5.46,0,0,0,6.5,12Z\"/>\n",
              "  </svg>\n",
              "    </button>\n",
              "    <script>\n",
              "      (() => {\n",
              "      const buttonEl =\n",
              "        document.querySelector('#id_b053bd79-c39e-4a63-862a-281a15682be7 button.colab-df-generate');\n",
              "      buttonEl.style.display =\n",
              "        google.colab.kernel.accessAllowed ? 'block' : 'none';\n",
              "\n",
              "      buttonEl.onclick = () => {\n",
              "        google.colab.notebook.generateWithVariable('data');\n",
              "      }\n",
              "      })();\n",
              "    </script>\n",
              "  </div>\n",
              "\n",
              "    </div>\n",
              "  </div>\n"
            ],
            "application/vnd.google.colaboratory.intrinsic+json": {
              "type": "dataframe",
              "variable_name": "data",
              "summary": "{\n  \"name\": \"data\",\n  \"rows\": 210,\n  \"fields\": [\n    {\n      \"column\": \"Area\",\n      \"properties\": {\n        \"dtype\": \"number\",\n        \"std\": 2.909699430687361,\n        \"min\": 10.59,\n        \"max\": 21.18,\n        \"num_unique_values\": 193,\n        \"samples\": [\n          14.86,\n          12.49,\n          16.53\n        ],\n        \"semantic_type\": \"\",\n        \"description\": \"\"\n      }\n    },\n    {\n      \"column\": \"Perimeter\",\n      \"properties\": {\n        \"dtype\": \"number\",\n        \"std\": 1.305958726564022,\n        \"min\": 12.41,\n        \"max\": 17.25,\n        \"num_unique_values\": 170,\n        \"samples\": [\n          13.45,\n          14.41,\n          13.92\n        ],\n        \"semantic_type\": \"\",\n        \"description\": \"\"\n      }\n    },\n    {\n      \"column\": \"Compactness\",\n      \"properties\": {\n        \"dtype\": \"number\",\n        \"std\": 0.0236294165838465,\n        \"min\": 0.8081,\n        \"max\": 0.9183,\n        \"num_unique_values\": 186,\n        \"samples\": [\n          0.9064,\n          0.856,\n          0.8372\n        ],\n        \"semantic_type\": \"\",\n        \"description\": \"\"\n      }\n    },\n    {\n      \"column\": \"Lenght_of_Kernel\",\n      \"properties\": {\n        \"dtype\": \"number\",\n        \"std\": 0.44306347772644916,\n        \"min\": 4.899,\n        \"max\": 6.675,\n        \"num_unique_values\": 188,\n        \"samples\": [\n          5.183,\n          5.186,\n          5.205\n        ],\n        \"semantic_type\": \"\",\n        \"description\": \"\"\n      }\n    },\n    {\n      \"column\": \"Width_of_Kernel\",\n      \"properties\": {\n        \"dtype\": \"number\",\n        \"std\": 0.37771444490658723,\n        \"min\": 2.63,\n        \"max\": 4.033,\n        \"num_unique_values\": 184,\n        \"samples\": [\n          3.168,\n          3.393,\n          2.641\n        ],\n        \"semantic_type\": \"\",\n        \"description\": \"\"\n      }\n    },\n    {\n      \"column\": \"Asymmetry_coefficient\",\n      \"properties\": {\n        \"dtype\": \"number\",\n        \"std\": 1.5035571308217794,\n        \"min\": 0.7651,\n        \"max\": 8.456,\n        \"num_unique_values\": 207,\n        \"samples\": [\n          6.388,\n          4.185,\n          4.92\n        ],\n        \"semantic_type\": \"\",\n        \"description\": \"\"\n      }\n    },\n    {\n      \"column\": \"Length_of_kernel_groove\",\n      \"properties\": {\n        \"dtype\": \"number\",\n        \"std\": 0.49148049910240543,\n        \"min\": 4.519,\n        \"max\": 6.55,\n        \"num_unique_values\": 148,\n        \"samples\": [\n          5.308,\n          4.703,\n          4.957\n        ],\n        \"semantic_type\": \"\",\n        \"description\": \"\"\n      }\n    },\n    {\n      \"column\": \"Class(1,2,3)\",\n      \"properties\": {\n        \"dtype\": \"number\",\n        \"std\": 0,\n        \"min\": 1,\n        \"max\": 3,\n        \"num_unique_values\": 3,\n        \"samples\": [\n          1,\n          2,\n          3\n        ],\n        \"semantic_type\": \"\",\n        \"description\": \"\"\n      }\n    }\n  ]\n}"
            }
          },
          "metadata": {},
          "execution_count": 35
        }
      ]
    },
    {
      "cell_type": "markdown",
      "source": [
        "##Data Analysis on Seeds Dataset"
      ],
      "metadata": {
        "id": "UZosrxmsEoKz"
      }
    },
    {
      "cell_type": "code",
      "source": [
        "print(\"Dataset Shape:\", data.shape)"
      ],
      "metadata": {
        "colab": {
          "base_uri": "https://localhost:8080/"
        },
        "id": "-wJR3LQ0FPvu",
        "outputId": "46f5bd55-6da7-48f9-ee8b-3892c9a4b6fa"
      },
      "execution_count": 36,
      "outputs": [
        {
          "output_type": "stream",
          "name": "stdout",
          "text": [
            "Dataset Shape: (210, 8)\n"
          ]
        }
      ]
    },
    {
      "cell_type": "code",
      "source": [
        "# Display the first 5 rows of the dataset\n",
        "print(data.head())"
      ],
      "metadata": {
        "colab": {
          "base_uri": "https://localhost:8080/"
        },
        "id": "i0Ho8BrpFkg8",
        "outputId": "7bb3b9eb-a2e9-441f-9ef9-1d8bf8994d6f"
      },
      "execution_count": 37,
      "outputs": [
        {
          "output_type": "stream",
          "name": "stdout",
          "text": [
            "    Area  Perimeter  Compactness  ...  Asymmetry_coefficient  Length_of_kernel_groove  Class(1,2,3)\n",
            "0  15.26      14.84       0.8710  ...                  2.221                    5.220             1\n",
            "1  14.88      14.57       0.8811  ...                  1.018                    4.956             1\n",
            "2  14.29      14.09       0.9050  ...                  2.699                    4.825             1\n",
            "3  13.84      13.94       0.8955  ...                  2.259                    4.805             1\n",
            "4  16.14      14.99       0.9034  ...                  1.355                    5.175             1\n",
            "\n",
            "[5 rows x 8 columns]\n"
          ]
        }
      ]
    },
    {
      "cell_type": "code",
      "source": [
        "print(data.sample(10))"
      ],
      "metadata": {
        "colab": {
          "base_uri": "https://localhost:8080/"
        },
        "id": "LjsQDDU-FoIL",
        "outputId": "d01f5b48-6683-436f-db8c-8acc33d16d3d"
      },
      "execution_count": 38,
      "outputs": [
        {
          "output_type": "stream",
          "name": "stdout",
          "text": [
            "      Area  Perimeter  Compactness  ...  Asymmetry_coefficient  Length_of_kernel_groove  Class(1,2,3)\n",
            "122  16.17      15.38       0.8588  ...                  4.286                    5.703             2\n",
            "130  18.30      15.89       0.9108  ...                  2.837                    5.962             2\n",
            "114  20.97      17.25       0.8859  ...                  4.677                    6.316             2\n",
            "116  18.96      16.20       0.9077  ...                  4.334                    5.750             2\n",
            "43   15.50      14.86       0.8820  ...                  4.711                    5.528             1\n",
            "44   15.11      14.54       0.8986  ...                  3.128                    5.180             1\n",
            "5    14.38      14.21       0.8951  ...                  2.462                    4.956             1\n",
            "109  18.55      16.22       0.8865  ...                  1.738                    5.894             2\n",
            "199  12.76      13.38       0.8964  ...                  2.828                    4.830             3\n",
            "106  18.85      16.17       0.9056  ...                  2.843                    6.200             2\n",
            "\n",
            "[10 rows x 8 columns]\n"
          ]
        }
      ]
    },
    {
      "cell_type": "code",
      "source": [
        "print(data.tail())"
      ],
      "metadata": {
        "colab": {
          "base_uri": "https://localhost:8080/"
        },
        "id": "_UrBr64yFt2-",
        "outputId": "23a730a2-04e5-4191-c635-56d09e92e8a9"
      },
      "execution_count": 39,
      "outputs": [
        {
          "output_type": "stream",
          "name": "stdout",
          "text": [
            "      Area  Perimeter  Compactness  ...  Asymmetry_coefficient  Length_of_kernel_groove  Class(1,2,3)\n",
            "205  12.19      13.20       0.8783  ...                  3.631                    4.870             3\n",
            "206  11.23      12.88       0.8511  ...                  4.325                    5.003             3\n",
            "207  13.20      13.66       0.8883  ...                  8.315                    5.056             3\n",
            "208  11.84      13.21       0.8521  ...                  3.598                    5.044             3\n",
            "209  12.30      13.34       0.8684  ...                  5.637                    5.063             3\n",
            "\n",
            "[5 rows x 8 columns]\n"
          ]
        }
      ]
    },
    {
      "cell_type": "code",
      "source": [
        "print(\"Dataset Info:\")\n",
        "data.info()"
      ],
      "metadata": {
        "colab": {
          "base_uri": "https://localhost:8080/"
        },
        "id": "IPhED0DQFyls",
        "outputId": "559fe1ec-a7a4-4575-9017-f41998ae7129"
      },
      "execution_count": 40,
      "outputs": [
        {
          "output_type": "stream",
          "name": "stdout",
          "text": [
            "Dataset Info:\n",
            "<class 'pandas.core.frame.DataFrame'>\n",
            "RangeIndex: 210 entries, 0 to 209\n",
            "Data columns (total 8 columns):\n",
            " #   Column                   Non-Null Count  Dtype  \n",
            "---  ------                   --------------  -----  \n",
            " 0   Area                     210 non-null    float64\n",
            " 1   Perimeter                210 non-null    float64\n",
            " 2   Compactness              210 non-null    float64\n",
            " 3   Lenght_of_Kernel         210 non-null    float64\n",
            " 4   Width_of_Kernel          210 non-null    float64\n",
            " 5   Asymmetry_coefficient    210 non-null    float64\n",
            " 6   Length_of_kernel_groove  210 non-null    float64\n",
            " 7   Class(1,2,3)             210 non-null    int64  \n",
            "dtypes: float64(7), int64(1)\n",
            "memory usage: 13.2 KB\n"
          ]
        }
      ]
    },
    {
      "cell_type": "code",
      "source": [
        "data.describe()"
      ],
      "metadata": {
        "colab": {
          "base_uri": "https://localhost:8080/",
          "height": 320
        },
        "id": "1oks5IbrF50o",
        "outputId": "015f61a5-2f60-45d1-cd4e-d2357d2d1690"
      },
      "execution_count": 41,
      "outputs": [
        {
          "output_type": "execute_result",
          "data": {
            "text/plain": [
              "             Area   Perimeter  ...  Length_of_kernel_groove  Class(1,2,3)\n",
              "count  210.000000  210.000000  ...               210.000000    210.000000\n",
              "mean    14.847524   14.559286  ...                 5.408071      2.000000\n",
              "std      2.909699    1.305959  ...                 0.491480      0.818448\n",
              "min     10.590000   12.410000  ...                 4.519000      1.000000\n",
              "25%     12.270000   13.450000  ...                 5.045000      1.000000\n",
              "50%     14.355000   14.320000  ...                 5.223000      2.000000\n",
              "75%     17.305000   15.715000  ...                 5.877000      3.000000\n",
              "max     21.180000   17.250000  ...                 6.550000      3.000000\n",
              "\n",
              "[8 rows x 8 columns]"
            ],
            "text/html": [
              "\n",
              "  <div id=\"df-218d0dc1-351f-4738-abdc-ef73bcaabc80\" class=\"colab-df-container\">\n",
              "    <div>\n",
              "<style scoped>\n",
              "    .dataframe tbody tr th:only-of-type {\n",
              "        vertical-align: middle;\n",
              "    }\n",
              "\n",
              "    .dataframe tbody tr th {\n",
              "        vertical-align: top;\n",
              "    }\n",
              "\n",
              "    .dataframe thead th {\n",
              "        text-align: right;\n",
              "    }\n",
              "</style>\n",
              "<table border=\"1\" class=\"dataframe\">\n",
              "  <thead>\n",
              "    <tr style=\"text-align: right;\">\n",
              "      <th></th>\n",
              "      <th>Area</th>\n",
              "      <th>Perimeter</th>\n",
              "      <th>Compactness</th>\n",
              "      <th>Lenght_of_Kernel</th>\n",
              "      <th>Width_of_Kernel</th>\n",
              "      <th>Asymmetry_coefficient</th>\n",
              "      <th>Length_of_kernel_groove</th>\n",
              "      <th>Class(1,2,3)</th>\n",
              "    </tr>\n",
              "  </thead>\n",
              "  <tbody>\n",
              "    <tr>\n",
              "      <th>count</th>\n",
              "      <td>210.000000</td>\n",
              "      <td>210.000000</td>\n",
              "      <td>210.000000</td>\n",
              "      <td>210.000000</td>\n",
              "      <td>210.000000</td>\n",
              "      <td>210.000000</td>\n",
              "      <td>210.000000</td>\n",
              "      <td>210.000000</td>\n",
              "    </tr>\n",
              "    <tr>\n",
              "      <th>mean</th>\n",
              "      <td>14.847524</td>\n",
              "      <td>14.559286</td>\n",
              "      <td>0.870999</td>\n",
              "      <td>5.628533</td>\n",
              "      <td>3.258605</td>\n",
              "      <td>3.700201</td>\n",
              "      <td>5.408071</td>\n",
              "      <td>2.000000</td>\n",
              "    </tr>\n",
              "    <tr>\n",
              "      <th>std</th>\n",
              "      <td>2.909699</td>\n",
              "      <td>1.305959</td>\n",
              "      <td>0.023629</td>\n",
              "      <td>0.443063</td>\n",
              "      <td>0.377714</td>\n",
              "      <td>1.503557</td>\n",
              "      <td>0.491480</td>\n",
              "      <td>0.818448</td>\n",
              "    </tr>\n",
              "    <tr>\n",
              "      <th>min</th>\n",
              "      <td>10.590000</td>\n",
              "      <td>12.410000</td>\n",
              "      <td>0.808100</td>\n",
              "      <td>4.899000</td>\n",
              "      <td>2.630000</td>\n",
              "      <td>0.765100</td>\n",
              "      <td>4.519000</td>\n",
              "      <td>1.000000</td>\n",
              "    </tr>\n",
              "    <tr>\n",
              "      <th>25%</th>\n",
              "      <td>12.270000</td>\n",
              "      <td>13.450000</td>\n",
              "      <td>0.856900</td>\n",
              "      <td>5.262250</td>\n",
              "      <td>2.944000</td>\n",
              "      <td>2.561500</td>\n",
              "      <td>5.045000</td>\n",
              "      <td>1.000000</td>\n",
              "    </tr>\n",
              "    <tr>\n",
              "      <th>50%</th>\n",
              "      <td>14.355000</td>\n",
              "      <td>14.320000</td>\n",
              "      <td>0.873450</td>\n",
              "      <td>5.523500</td>\n",
              "      <td>3.237000</td>\n",
              "      <td>3.599000</td>\n",
              "      <td>5.223000</td>\n",
              "      <td>2.000000</td>\n",
              "    </tr>\n",
              "    <tr>\n",
              "      <th>75%</th>\n",
              "      <td>17.305000</td>\n",
              "      <td>15.715000</td>\n",
              "      <td>0.887775</td>\n",
              "      <td>5.979750</td>\n",
              "      <td>3.561750</td>\n",
              "      <td>4.768750</td>\n",
              "      <td>5.877000</td>\n",
              "      <td>3.000000</td>\n",
              "    </tr>\n",
              "    <tr>\n",
              "      <th>max</th>\n",
              "      <td>21.180000</td>\n",
              "      <td>17.250000</td>\n",
              "      <td>0.918300</td>\n",
              "      <td>6.675000</td>\n",
              "      <td>4.033000</td>\n",
              "      <td>8.456000</td>\n",
              "      <td>6.550000</td>\n",
              "      <td>3.000000</td>\n",
              "    </tr>\n",
              "  </tbody>\n",
              "</table>\n",
              "</div>\n",
              "    <div class=\"colab-df-buttons\">\n",
              "\n",
              "  <div class=\"colab-df-container\">\n",
              "    <button class=\"colab-df-convert\" onclick=\"convertToInteractive('df-218d0dc1-351f-4738-abdc-ef73bcaabc80')\"\n",
              "            title=\"Convert this dataframe to an interactive table.\"\n",
              "            style=\"display:none;\">\n",
              "\n",
              "  <svg xmlns=\"http://www.w3.org/2000/svg\" height=\"24px\" viewBox=\"0 -960 960 960\">\n",
              "    <path d=\"M120-120v-720h720v720H120Zm60-500h600v-160H180v160Zm220 220h160v-160H400v160Zm0 220h160v-160H400v160ZM180-400h160v-160H180v160Zm440 0h160v-160H620v160ZM180-180h160v-160H180v160Zm440 0h160v-160H620v160Z\"/>\n",
              "  </svg>\n",
              "    </button>\n",
              "\n",
              "  <style>\n",
              "    .colab-df-container {\n",
              "      display:flex;\n",
              "      gap: 12px;\n",
              "    }\n",
              "\n",
              "    .colab-df-convert {\n",
              "      background-color: #E8F0FE;\n",
              "      border: none;\n",
              "      border-radius: 50%;\n",
              "      cursor: pointer;\n",
              "      display: none;\n",
              "      fill: #1967D2;\n",
              "      height: 32px;\n",
              "      padding: 0 0 0 0;\n",
              "      width: 32px;\n",
              "    }\n",
              "\n",
              "    .colab-df-convert:hover {\n",
              "      background-color: #E2EBFA;\n",
              "      box-shadow: 0px 1px 2px rgba(60, 64, 67, 0.3), 0px 1px 3px 1px rgba(60, 64, 67, 0.15);\n",
              "      fill: #174EA6;\n",
              "    }\n",
              "\n",
              "    .colab-df-buttons div {\n",
              "      margin-bottom: 4px;\n",
              "    }\n",
              "\n",
              "    [theme=dark] .colab-df-convert {\n",
              "      background-color: #3B4455;\n",
              "      fill: #D2E3FC;\n",
              "    }\n",
              "\n",
              "    [theme=dark] .colab-df-convert:hover {\n",
              "      background-color: #434B5C;\n",
              "      box-shadow: 0px 1px 3px 1px rgba(0, 0, 0, 0.15);\n",
              "      filter: drop-shadow(0px 1px 2px rgba(0, 0, 0, 0.3));\n",
              "      fill: #FFFFFF;\n",
              "    }\n",
              "  </style>\n",
              "\n",
              "    <script>\n",
              "      const buttonEl =\n",
              "        document.querySelector('#df-218d0dc1-351f-4738-abdc-ef73bcaabc80 button.colab-df-convert');\n",
              "      buttonEl.style.display =\n",
              "        google.colab.kernel.accessAllowed ? 'block' : 'none';\n",
              "\n",
              "      async function convertToInteractive(key) {\n",
              "        const element = document.querySelector('#df-218d0dc1-351f-4738-abdc-ef73bcaabc80');\n",
              "        const dataTable =\n",
              "          await google.colab.kernel.invokeFunction('convertToInteractive',\n",
              "                                                    [key], {});\n",
              "        if (!dataTable) return;\n",
              "\n",
              "        const docLinkHtml = 'Like what you see? Visit the ' +\n",
              "          '<a target=\"_blank\" href=https://colab.research.google.com/notebooks/data_table.ipynb>data table notebook</a>'\n",
              "          + ' to learn more about interactive tables.';\n",
              "        element.innerHTML = '';\n",
              "        dataTable['output_type'] = 'display_data';\n",
              "        await google.colab.output.renderOutput(dataTable, element);\n",
              "        const docLink = document.createElement('div');\n",
              "        docLink.innerHTML = docLinkHtml;\n",
              "        element.appendChild(docLink);\n",
              "      }\n",
              "    </script>\n",
              "  </div>\n",
              "\n",
              "\n",
              "<div id=\"df-5a0cbcc4-bea4-43d5-b368-c881f670daf4\">\n",
              "  <button class=\"colab-df-quickchart\" onclick=\"quickchart('df-5a0cbcc4-bea4-43d5-b368-c881f670daf4')\"\n",
              "            title=\"Suggest charts\"\n",
              "            style=\"display:none;\">\n",
              "\n",
              "<svg xmlns=\"http://www.w3.org/2000/svg\" height=\"24px\"viewBox=\"0 0 24 24\"\n",
              "     width=\"24px\">\n",
              "    <g>\n",
              "        <path d=\"M19 3H5c-1.1 0-2 .9-2 2v14c0 1.1.9 2 2 2h14c1.1 0 2-.9 2-2V5c0-1.1-.9-2-2-2zM9 17H7v-7h2v7zm4 0h-2V7h2v10zm4 0h-2v-4h2v4z\"/>\n",
              "    </g>\n",
              "</svg>\n",
              "  </button>\n",
              "\n",
              "<style>\n",
              "  .colab-df-quickchart {\n",
              "      --bg-color: #E8F0FE;\n",
              "      --fill-color: #1967D2;\n",
              "      --hover-bg-color: #E2EBFA;\n",
              "      --hover-fill-color: #174EA6;\n",
              "      --disabled-fill-color: #AAA;\n",
              "      --disabled-bg-color: #DDD;\n",
              "  }\n",
              "\n",
              "  [theme=dark] .colab-df-quickchart {\n",
              "      --bg-color: #3B4455;\n",
              "      --fill-color: #D2E3FC;\n",
              "      --hover-bg-color: #434B5C;\n",
              "      --hover-fill-color: #FFFFFF;\n",
              "      --disabled-bg-color: #3B4455;\n",
              "      --disabled-fill-color: #666;\n",
              "  }\n",
              "\n",
              "  .colab-df-quickchart {\n",
              "    background-color: var(--bg-color);\n",
              "    border: none;\n",
              "    border-radius: 50%;\n",
              "    cursor: pointer;\n",
              "    display: none;\n",
              "    fill: var(--fill-color);\n",
              "    height: 32px;\n",
              "    padding: 0;\n",
              "    width: 32px;\n",
              "  }\n",
              "\n",
              "  .colab-df-quickchart:hover {\n",
              "    background-color: var(--hover-bg-color);\n",
              "    box-shadow: 0 1px 2px rgba(60, 64, 67, 0.3), 0 1px 3px 1px rgba(60, 64, 67, 0.15);\n",
              "    fill: var(--button-hover-fill-color);\n",
              "  }\n",
              "\n",
              "  .colab-df-quickchart-complete:disabled,\n",
              "  .colab-df-quickchart-complete:disabled:hover {\n",
              "    background-color: var(--disabled-bg-color);\n",
              "    fill: var(--disabled-fill-color);\n",
              "    box-shadow: none;\n",
              "  }\n",
              "\n",
              "  .colab-df-spinner {\n",
              "    border: 2px solid var(--fill-color);\n",
              "    border-color: transparent;\n",
              "    border-bottom-color: var(--fill-color);\n",
              "    animation:\n",
              "      spin 1s steps(1) infinite;\n",
              "  }\n",
              "\n",
              "  @keyframes spin {\n",
              "    0% {\n",
              "      border-color: transparent;\n",
              "      border-bottom-color: var(--fill-color);\n",
              "      border-left-color: var(--fill-color);\n",
              "    }\n",
              "    20% {\n",
              "      border-color: transparent;\n",
              "      border-left-color: var(--fill-color);\n",
              "      border-top-color: var(--fill-color);\n",
              "    }\n",
              "    30% {\n",
              "      border-color: transparent;\n",
              "      border-left-color: var(--fill-color);\n",
              "      border-top-color: var(--fill-color);\n",
              "      border-right-color: var(--fill-color);\n",
              "    }\n",
              "    40% {\n",
              "      border-color: transparent;\n",
              "      border-right-color: var(--fill-color);\n",
              "      border-top-color: var(--fill-color);\n",
              "    }\n",
              "    60% {\n",
              "      border-color: transparent;\n",
              "      border-right-color: var(--fill-color);\n",
              "    }\n",
              "    80% {\n",
              "      border-color: transparent;\n",
              "      border-right-color: var(--fill-color);\n",
              "      border-bottom-color: var(--fill-color);\n",
              "    }\n",
              "    90% {\n",
              "      border-color: transparent;\n",
              "      border-bottom-color: var(--fill-color);\n",
              "    }\n",
              "  }\n",
              "</style>\n",
              "\n",
              "  <script>\n",
              "    async function quickchart(key) {\n",
              "      const quickchartButtonEl =\n",
              "        document.querySelector('#' + key + ' button');\n",
              "      quickchartButtonEl.disabled = true;  // To prevent multiple clicks.\n",
              "      quickchartButtonEl.classList.add('colab-df-spinner');\n",
              "      try {\n",
              "        const charts = await google.colab.kernel.invokeFunction(\n",
              "            'suggestCharts', [key], {});\n",
              "      } catch (error) {\n",
              "        console.error('Error during call to suggestCharts:', error);\n",
              "      }\n",
              "      quickchartButtonEl.classList.remove('colab-df-spinner');\n",
              "      quickchartButtonEl.classList.add('colab-df-quickchart-complete');\n",
              "    }\n",
              "    (() => {\n",
              "      let quickchartButtonEl =\n",
              "        document.querySelector('#df-5a0cbcc4-bea4-43d5-b368-c881f670daf4 button');\n",
              "      quickchartButtonEl.style.display =\n",
              "        google.colab.kernel.accessAllowed ? 'block' : 'none';\n",
              "    })();\n",
              "  </script>\n",
              "</div>\n",
              "\n",
              "    </div>\n",
              "  </div>\n"
            ],
            "application/vnd.google.colaboratory.intrinsic+json": {
              "type": "dataframe",
              "summary": "{\n  \"name\": \"data\",\n  \"rows\": 8,\n  \"fields\": [\n    {\n      \"column\": \"Area\",\n      \"properties\": {\n        \"dtype\": \"number\",\n        \"std\": 69.7290183208939,\n        \"min\": 2.909699430687361,\n        \"max\": 210.0,\n        \"num_unique_values\": 8,\n        \"samples\": [\n          14.84752380952381,\n          14.355,\n          210.0\n        ],\n        \"semantic_type\": \"\",\n        \"description\": \"\"\n      }\n    },\n    {\n      \"column\": \"Perimeter\",\n      \"properties\": {\n        \"dtype\": \"number\",\n        \"std\": 69.92065326255143,\n        \"min\": 1.305958726564022,\n        \"max\": 210.0,\n        \"num_unique_values\": 8,\n        \"samples\": [\n          14.559285714285714,\n          14.32,\n          210.0\n        ],\n        \"semantic_type\": \"\",\n        \"description\": \"\"\n      }\n    },\n    {\n      \"column\": \"Compactness\",\n      \"properties\": {\n        \"dtype\": \"number\",\n        \"std\": 73.98219304279458,\n        \"min\": 0.0236294165838465,\n        \"max\": 210.0,\n        \"num_unique_values\": 8,\n        \"samples\": [\n          0.8709985714285714,\n          0.8734500000000001,\n          210.0\n        ],\n        \"semantic_type\": \"\",\n        \"description\": \"\"\n      }\n    },\n    {\n      \"column\": \"Lenght_of_Kernel\",\n      \"properties\": {\n        \"dtype\": \"number\",\n        \"std\": 72.53303899953512,\n        \"min\": 0.44306347772644916,\n        \"max\": 210.0,\n        \"num_unique_values\": 8,\n        \"samples\": [\n          5.628533333333334,\n          5.5235,\n          210.0\n        ],\n        \"semantic_type\": \"\",\n        \"description\": \"\"\n      }\n    },\n    {\n      \"column\": \"Width_of_Kernel\",\n      \"properties\": {\n        \"dtype\": \"number\",\n        \"std\": 73.24211837620656,\n        \"min\": 0.37771444490658723,\n        \"max\": 210.0,\n        \"num_unique_values\": 8,\n        \"samples\": [\n          3.258604761904762,\n          3.237,\n          210.0\n        ],\n        \"semantic_type\": \"\",\n        \"description\": \"\"\n      }\n    },\n    {\n      \"column\": \"Asymmetry_coefficient\",\n      \"properties\": {\n        \"dtype\": \"number\",\n        \"std\": 73.00327979031506,\n        \"min\": 0.7651,\n        \"max\": 210.0,\n        \"num_unique_values\": 8,\n        \"samples\": [\n          3.700200952380953,\n          3.599,\n          210.0\n        ],\n        \"semantic_type\": \"\",\n        \"description\": \"\"\n      }\n    },\n    {\n      \"column\": \"Length_of_kernel_groove\",\n      \"properties\": {\n        \"dtype\": \"number\",\n        \"std\": 72.59679119462936,\n        \"min\": 0.49148049910240543,\n        \"max\": 210.0,\n        \"num_unique_values\": 8,\n        \"samples\": [\n          5.408071428571429,\n          5.223000000000001,\n          210.0\n        ],\n        \"semantic_type\": \"\",\n        \"description\": \"\"\n      }\n    },\n    {\n      \"column\": \"Class(1,2,3)\",\n      \"properties\": {\n        \"dtype\": \"number\",\n        \"std\": 73.60382587406471,\n        \"min\": 0.8184475910711349,\n        \"max\": 210.0,\n        \"num_unique_values\": 5,\n        \"samples\": [\n          2.0,\n          3.0,\n          0.8184475910711349\n        ],\n        \"semantic_type\": \"\",\n        \"description\": \"\"\n      }\n    }\n  ]\n}"
            }
          },
          "metadata": {},
          "execution_count": 41
        }
      ]
    },
    {
      "cell_type": "markdown",
      "source": [
        "##Data Cleaning and Preprocessing on Seeds Dataset"
      ],
      "metadata": {
        "id": "ZHGLCmHmGJ-Y"
      }
    },
    {
      "cell_type": "code",
      "source": [
        "print(\"Dataset missing values count:\")\n",
        "data.isnull().sum()"
      ],
      "metadata": {
        "colab": {
          "base_uri": "https://localhost:8080/",
          "height": 352
        },
        "id": "_7ryYDLqGJmX",
        "outputId": "d3018134-904d-4001-b0bb-45080786f740"
      },
      "execution_count": 42,
      "outputs": [
        {
          "output_type": "stream",
          "name": "stdout",
          "text": [
            "Dataset missing values count:\n"
          ]
        },
        {
          "output_type": "execute_result",
          "data": {
            "text/plain": [
              "Area                       0\n",
              "Perimeter                  0\n",
              "Compactness                0\n",
              "Lenght_of_Kernel           0\n",
              "Width_of_Kernel            0\n",
              "Asymmetry_coefficient      0\n",
              "Length_of_kernel_groove    0\n",
              "Class(1,2,3)               0\n",
              "dtype: int64"
            ],
            "text/html": [
              "<div>\n",
              "<style scoped>\n",
              "    .dataframe tbody tr th:only-of-type {\n",
              "        vertical-align: middle;\n",
              "    }\n",
              "\n",
              "    .dataframe tbody tr th {\n",
              "        vertical-align: top;\n",
              "    }\n",
              "\n",
              "    .dataframe thead th {\n",
              "        text-align: right;\n",
              "    }\n",
              "</style>\n",
              "<table border=\"1\" class=\"dataframe\">\n",
              "  <thead>\n",
              "    <tr style=\"text-align: right;\">\n",
              "      <th></th>\n",
              "      <th>0</th>\n",
              "    </tr>\n",
              "  </thead>\n",
              "  <tbody>\n",
              "    <tr>\n",
              "      <th>Area</th>\n",
              "      <td>0</td>\n",
              "    </tr>\n",
              "    <tr>\n",
              "      <th>Perimeter</th>\n",
              "      <td>0</td>\n",
              "    </tr>\n",
              "    <tr>\n",
              "      <th>Compactness</th>\n",
              "      <td>0</td>\n",
              "    </tr>\n",
              "    <tr>\n",
              "      <th>Lenght_of_Kernel</th>\n",
              "      <td>0</td>\n",
              "    </tr>\n",
              "    <tr>\n",
              "      <th>Width_of_Kernel</th>\n",
              "      <td>0</td>\n",
              "    </tr>\n",
              "    <tr>\n",
              "      <th>Asymmetry_coefficient</th>\n",
              "      <td>0</td>\n",
              "    </tr>\n",
              "    <tr>\n",
              "      <th>Length_of_kernel_groove</th>\n",
              "      <td>0</td>\n",
              "    </tr>\n",
              "    <tr>\n",
              "      <th>Class(1,2,3)</th>\n",
              "      <td>0</td>\n",
              "    </tr>\n",
              "  </tbody>\n",
              "</table>\n",
              "</div><br><label><b>dtype:</b> int64</label>"
            ]
          },
          "metadata": {},
          "execution_count": 42
        }
      ]
    },
    {
      "cell_type": "markdown",
      "source": [
        "There is No Missing Values in this Dataset and There is No need to Preprocessing because all are Numeric type columns"
      ],
      "metadata": {
        "id": "1RNQC3-TGuy_"
      }
    },
    {
      "cell_type": "code",
      "source": [
        "#heatmap on seeds dataset for Knowing Correlation Between Columns\n",
        "import seaborn as sns\n",
        "import matplotlib.pyplot as plt\n",
        "sns.heatmap(data.corr(), annot=True)\n",
        "plt.show()"
      ],
      "metadata": {
        "colab": {
          "base_uri": "https://localhost:8080/",
          "height": 595
        },
        "id": "UJwwf82qIKM0",
        "outputId": "12200103-94ee-4d0a-a9b9-cb5ed0aa277b"
      },
      "execution_count": 14,
      "outputs": [
        {
          "output_type": "display_data",
          "data": {
            "text/plain": [
              "<Figure size 640x480 with 2 Axes>"
            ],
            "image/png": "[encoded data removed]"
          },
          "metadata": {}
        }
      ]
    },
    {
      "cell_type": "markdown",
      "source": [
        "##Spliting the Data into Train and Test Sets"
      ],
      "metadata": {
        "id": "qCbcAALsJS6Q"
      }
    },
    {
      "cell_type": "code",
      "source": [
        "X=data.drop(\"Class(1,2,3)\",axis=1)\n",
        "y=data[\"Class(1,2,3)\"]"
      ],
      "metadata": {
        "id": "Tn4JXHNMJbkc"
      },
      "execution_count": 43,
      "outputs": []
    },
    {
      "cell_type": "code",
      "source": [
        "scaler = StandardScaler()\n",
        "X_scaled = scaler.fit_transform(X)"
      ],
      "metadata": {
        "id": "qp-taFsJLpkW"
      },
      "execution_count": 44,
      "outputs": []
    },
    {
      "cell_type": "code",
      "source": [
        "X_train, X_test, y_train, y_test = train_test_split(X_scaled, y, test_size=0.2, random_state=42,stratify=y)"
      ],
      "metadata": {
        "id": "pjQ2esFZKxsy"
      },
      "execution_count": 45,
      "outputs": []
    },
    {
      "cell_type": "code",
      "source": [
        "print(\"Training Set Shape:\", X_train.shape)\n",
        "print(\"Testing Set Shape:\", X_test.shape)"
      ],
      "metadata": {
        "colab": {
          "base_uri": "https://localhost:8080/"
        },
        "id": "YRakHl59LZ_k",
        "outputId": "6992e4ea-3217-48b7-ef60-e02398a40c7d"
      },
      "execution_count": 46,
      "outputs": [
        {
          "output_type": "stream",
          "name": "stdout",
          "text": [
            "Training Set Shape: (168, 7)\n",
            "Testing Set Shape: (42, 7)\n"
          ]
        }
      ]
    },
    {
      "cell_type": "markdown",
      "source": [
        "##Initializing Classification Models"
      ],
      "metadata": {
        "id": "B0VExf4NL8JW"
      }
    },
    {
      "cell_type": "code",
      "source": [
        "lr = LogisticRegression(random_state=42)\n",
        "nb = GaussianNB()\n",
        "knn = KNeighborsClassifier()\n",
        "dt = DecisionTreeClassifier(random_state=42)\n",
        "svc = SVC(random_state=42, kernel='linear')"
      ],
      "metadata": {
        "id": "TIdOnHQoLdHI"
      },
      "execution_count": 47,
      "outputs": []
    },
    {
      "cell_type": "markdown",
      "source": [
        "##Training and Evaluating Models\n"
      ],
      "metadata": {
        "id": "lW2fPJGIL-_G"
      }
    },
    {
      "cell_type": "markdown",
      "source": [
        "###Logistic Regression model"
      ],
      "metadata": {
        "id": "65pNuyxRPTSv"
      }
    },
    {
      "cell_type": "code",
      "source": [
        "# Initialize an empty list to store results\n",
        "results=[]\n",
        "# Train the model using Linear Regression model\n",
        "lr.fit(X_train, y_train)\n",
        "# Make predictions\n",
        "y_pred_lr = lr.predict(X_test)\n",
        "# Calculate evaluation metrics\n",
        "results.append({\n",
        "    \"Model\": \"Linear Regression\",\n",
        "    \"Accuracy\": accuracy_score(y_test, y_pred_lr),\n",
        "    \"Precision\": precision_score(y_test, y_pred_lr, average=\"weighted\"),\n",
        "    \"Recall\": recall_score(y_test, y_pred_lr, average=\"weighted\"),\n",
        "    \"F1-Score\": f1_score(y_test, y_pred_lr, average=\"weighted\")\n",
        "})\n",
        "print(\"Linear Regression::\")\n",
        "print(\"Classification report::\\n\",classification_report(y_test, y_pred_lr))\n",
        "print(\"Confusion matrix::\\n\",confusion_matrix(y_test, y_pred_lr))\n",
        "print(\"No. of classes::\\n\",lr.classes_)\n",
        "print(\"Weights::\\n\",lr.coef_)\n",
        "print(\"Probability::\\n\",lr.predict_proba(X_test))\n",
        "print(\"Score::\\n\",lr.score(X_test, y_test))"
      ],
      "metadata": {
        "colab": {
          "base_uri": "https://localhost:8080/"
        },
        "id": "jmXNcUkVMS3l",
        "outputId": "fcadba1f-85a5-4743-f200-6ccc7bf71045"
      },
      "execution_count": 49,
      "outputs": [
        {
          "output_type": "stream",
          "name": "stdout",
          "text": [
            "Linear Regression::\n",
            "Classification report::\n",
            "               precision    recall  f1-score   support\n",
            "\n",
            "           1       1.00      0.64      0.78        14\n",
            "           2       0.88      1.00      0.93        14\n",
            "           3       0.82      1.00      0.90        14\n",
            "\n",
            "    accuracy                           0.88        42\n",
            "   macro avg       0.90      0.88      0.87        42\n",
            "weighted avg       0.90      0.88      0.87        42\n",
            "\n",
            "Confusion matrix::\n",
            " [[ 9  2  3]\n",
            " [ 0 14  0]\n",
            " [ 0  0 14]]\n",
            "No. of classes::\n",
            " [1 2 3]\n",
            "Weights::\n",
            " [[ 0.17138996  0.32093797 -0.02554709  1.22135411  0.03199665 -0.8585474\n",
            "  -1.87094551]\n",
            " [ 0.98754519  0.97477456  0.42816768  0.157233    0.98349121  0.50833678\n",
            "   1.40346578]\n",
            " [-1.15893514 -1.29571253 -0.40262059 -1.37858711 -1.01548786  0.35021061\n",
            "   0.46747973]]\n",
            "Probability::\n",
            " [[9.75816822e-01 6.66893543e-03 1.75142422e-02]\n",
            " [7.05230296e-02 9.00039790e-04 9.28576931e-01]\n",
            " [4.67754773e-01 5.18281915e-01 1.39633125e-02]\n",
            " [1.89730741e-03 1.73865131e-05 9.98085306e-01]\n",
            " [1.37249360e-02 9.86269764e-01 5.29959234e-06]\n",
            " [4.35981332e-02 8.06407642e-02 8.75761103e-01]\n",
            " [2.11833645e-04 9.99788164e-01 2.64108339e-09]\n",
            " [5.84664679e-01 4.06780891e-01 8.55443014e-03]\n",
            " [5.58115985e-03 9.94418621e-01 2.18813218e-07]\n",
            " [1.06304175e-01 8.93690962e-01 4.86228134e-06]\n",
            " [3.69247742e-01 1.85924141e-04 6.30566334e-01]\n",
            " [3.16994014e-02 8.51775514e-04 9.67448823e-01]\n",
            " [1.33049242e-02 9.86618230e-01 7.68455709e-05]\n",
            " [1.61689215e-02 9.83829973e-01 1.10543026e-06]\n",
            " [4.61446430e-03 1.02452938e-04 9.95283083e-01]\n",
            " [8.02128656e-01 6.80650923e-03 1.91064835e-01]\n",
            " [6.27305610e-03 2.25194547e-05 9.93704424e-01]\n",
            " [9.70603195e-01 1.37413760e-03 2.80226671e-02]\n",
            " [1.40693676e-03 1.05270539e-05 9.98582536e-01]\n",
            " [3.59557054e-01 6.32392159e-01 8.05078782e-03]\n",
            " [7.92884569e-01 9.36696134e-02 1.13445818e-01]\n",
            " [5.68816824e-02 2.99527158e-03 9.40123046e-01]\n",
            " [1.66412903e-01 8.26712938e-01 6.87415935e-03]\n",
            " [1.99741259e-01 2.18677017e-05 8.00236874e-01]\n",
            " [2.09711858e-03 9.97900774e-01 2.10761185e-06]\n",
            " [9.16197813e-01 1.78316240e-02 6.59705626e-02]\n",
            " [1.03153424e-01 2.29728494e-05 8.96823604e-01]\n",
            " [8.98855938e-01 3.12558703e-04 1.00831504e-01]\n",
            " [3.67394890e-02 3.03909981e-04 9.62956601e-01]\n",
            " [9.50786084e-01 1.06844586e-02 3.85294576e-02]\n",
            " [5.72104481e-03 5.45263698e-05 9.94224429e-01]\n",
            " [1.34895589e-02 9.86498757e-01 1.16845202e-05]\n",
            " [9.97094909e-01 1.76039483e-03 1.14469586e-03]\n",
            " [4.31570176e-02 2.86653115e-05 9.56814317e-01]\n",
            " [2.69072057e-02 1.00292148e-03 9.72089873e-01]\n",
            " [1.23048336e-01 8.76946094e-01 5.56985732e-06]\n",
            " [7.17059445e-02 9.28024541e-01 2.69514311e-04]\n",
            " [1.11606465e-03 9.98882436e-01 1.49967246e-06]\n",
            " [2.85532403e-02 5.93828072e-04 9.70852932e-01]\n",
            " [3.29936890e-01 6.69919563e-01 1.43547001e-04]\n",
            " [2.51850904e-01 1.95398213e-03 7.46195114e-01]\n",
            " [3.68199888e-03 9.96317575e-01 4.26267046e-07]]\n",
            "Score::\n",
            " 0.8809523809523809\n"
          ]
        }
      ]
    },
    {
      "cell_type": "markdown",
      "source": [
        "###Naive Bayes model"
      ],
      "metadata": {
        "id": "RLeb0kdxPVkH"
      }
    },
    {
      "cell_type": "code",
      "source": [
        "# Train the model using Naive Bayes model\n",
        "nb.fit(X_train, y_train)\n",
        "# Make predictions\n",
        "y_pred_nb = nb.predict(X_test)\n",
        "# Calculate evaluation metrics\n",
        "results.append({\n",
        "    \"Model\": \"Naive Bayes model\",\n",
        "    \"Accuracy\": accuracy_score(y_test, y_pred_nb),\n",
        "    \"Precision\": precision_score(y_test, y_pred_nb, average=\"weighted\"),\n",
        "    \"Recall\": recall_score(y_test, y_pred_nb, average=\"weighted\"),\n",
        "    \"F1-Score\": f1_score(y_test, y_pred_nb, average=\"weighted\")\n",
        "})\n",
        "print(\"Naive Bayes model::\")\n",
        "print(\"Classification report::\\n\",classification_report(y_test, y_pred_nb))\n",
        "print(\"Confusion matrix::\\n\",confusion_matrix(y_test, y_pred_nb))\n",
        "print(\"Probability::\\n\",nb.predict_proba(X_test))\n",
        "print(\"Score::\\n\",nb.score(X_test, y_test))"
      ],
      "metadata": {
        "colab": {
          "base_uri": "https://localhost:8080/"
        },
        "id": "dMykylZtPawF",
        "outputId": "3f90c6f7-7ca1-4929-d997-779f9221964e"
      },
      "execution_count": 50,
      "outputs": [
        {
          "output_type": "stream",
          "name": "stdout",
          "text": [
            "Naive Bayes model::\n",
            "Classification report::\n",
            "               precision    recall  f1-score   support\n",
            "\n",
            "           1       0.91      0.71      0.80        14\n",
            "           2       0.93      0.93      0.93        14\n",
            "           3       0.82      1.00      0.90        14\n",
            "\n",
            "    accuracy                           0.88        42\n",
            "   macro avg       0.89      0.88      0.88        42\n",
            "weighted avg       0.89      0.88      0.88        42\n",
            "\n",
            "Confusion matrix::\n",
            " [[10  1  3]\n",
            " [ 1 13  0]\n",
            " [ 0  0 14]]\n",
            "Probability::\n",
            " [[9.99999768e-001 2.93235506e-012 2.31785434e-007]\n",
            " [9.21563907e-005 5.00638271e-018 9.99907844e-001]\n",
            " [6.17274390e-001 3.82725610e-001 1.65179706e-021]\n",
            " [9.84013179e-009 2.37220202e-025 9.99999990e-001]\n",
            " [9.18402896e-011 1.00000000e+000 1.26829004e-051]\n",
            " [4.58535372e-001 3.37445972e-009 5.41464625e-001]\n",
            " [7.26695068e-029 1.00000000e+000 4.62759737e-108]\n",
            " [9.99751411e-001 2.48588751e-004 1.55227754e-015]\n",
            " [1.20646873e-019 1.00000000e+000 1.11911584e-080]\n",
            " [2.44001270e-011 1.00000000e+000 1.71465854e-055]\n",
            " [9.47283354e-004 2.69197258e-020 9.99052717e-001]\n",
            " [1.22426215e-005 1.51838651e-019 9.99987757e-001]\n",
            " [1.27970518e-006 9.99998720e-001 1.89594925e-036]\n",
            " [1.28559809e-014 1.00000000e+000 3.36295077e-064]\n",
            " [1.79720096e-009 3.24218567e-025 9.99999998e-001]\n",
            " [9.94850766e-001 3.71448590e-012 5.14923385e-003]\n",
            " [5.17346761e-010 8.79194764e-027 9.99999999e-001]\n",
            " [9.99940025e-001 2.05841472e-013 5.99746053e-005]\n",
            " [1.05187118e-010 8.48060101e-028 1.00000000e+000]\n",
            " [9.45003169e-001 5.49968309e-002 7.08053058e-018]\n",
            " [9.99999727e-001 2.69969543e-007 2.81710064e-009]\n",
            " [4.50776793e-004 4.20215567e-017 9.99549223e-001]\n",
            " [1.52132331e-001 8.47867669e-001 1.56560841e-022]\n",
            " [4.67787927e-005 2.07378348e-024 9.99953221e-001]\n",
            " [4.52800819e-019 1.00000000e+000 2.94234587e-078]\n",
            " [9.99999302e-001 4.52219356e-010 6.97454007e-007]\n",
            " [7.25731008e-005 6.60927874e-024 9.99927427e-001]\n",
            " [9.34455442e-001 3.64020855e-017 6.55445580e-002]\n",
            " [5.87914747e-007 4.34118383e-022 9.99999412e-001]\n",
            " [9.99999883e-001 9.01224946e-010 1.16258486e-007]\n",
            " [1.31437375e-008 3.96052031e-024 9.99999987e-001]\n",
            " [1.35171291e-013 1.00000000e+000 7.01757732e-062]\n",
            " [9.99999999e-001 8.07858016e-010 2.19017766e-012]\n",
            " [4.89678185e-008 3.58168785e-025 9.99999951e-001]\n",
            " [1.02926980e-005 1.43718383e-018 9.99989707e-001]\n",
            " [7.84829505e-012 1.00000000e+000 4.83506871e-058]\n",
            " [3.65427897e-007 9.99999635e-001 3.15183207e-040]\n",
            " [1.88527516e-013 1.00000000e+000 1.99080089e-055]\n",
            " [7.11515922e-006 1.77426501e-019 9.99992885e-001]\n",
            " [2.12459756e-003 9.97875402e-001 4.86013267e-031]\n",
            " [6.17300091e-003 4.82970749e-016 9.93826999e-001]\n",
            " [1.58813711e-017 1.00000000e+000 9.46503624e-073]]\n",
            "Score::\n",
            " 0.8809523809523809\n"
          ]
        }
      ]
    },
    {
      "cell_type": "markdown",
      "source": [
        "###KNN Model"
      ],
      "metadata": {
        "id": "ZhFr2TZsRWYu"
      }
    },
    {
      "cell_type": "code",
      "source": [
        "# Train the model using KNN model\n",
        "knn.fit(X_train, y_train)\n",
        "# Make predictions\n",
        "y_pred_knn = knn.predict(X_test)\n",
        "# Calculate evaluation metrics\n",
        "results.append({\n",
        "    \"Model\": \"KNN model\",\n",
        "    \"Accuracy\": accuracy_score(y_test, y_pred_knn),\n",
        "    \"Precision\": precision_score(y_test, y_pred_knn, average=\"weighted\"),\n",
        "    \"Recall\": recall_score(y_test, y_pred_knn, average=\"weighted\"),\n",
        "    \"F1-Score\": f1_score(y_test, y_pred_knn, average=\"weighted\")\n",
        "})\n",
        "print(\"KNN model::\")\n",
        "print(\"Classification report::\\n\",classification_report(y_test, y_pred_knn))\n",
        "print(\"Confusion matrix::\\n\",confusion_matrix(y_test, y_pred_knn))\n",
        "print(\"Probability::\\n\",knn.predict_proba(X_test))\n",
        "print(\"Score::\\n\",knn.score(X_test, y_test))"
      ],
      "metadata": {
        "colab": {
          "base_uri": "https://localhost:8080/"
        },
        "id": "BdPaQqrHRc-z",
        "outputId": "01025da1-8fcb-43ca-aec8-b52240fe875f"
      },
      "execution_count": 51,
      "outputs": [
        {
          "output_type": "stream",
          "name": "stdout",
          "text": [
            "KNN model::\n",
            "Classification report::\n",
            "               precision    recall  f1-score   support\n",
            "\n",
            "           1       1.00      0.71      0.83        14\n",
            "           2       0.88      1.00      0.93        14\n",
            "           3       0.88      1.00      0.93        14\n",
            "\n",
            "    accuracy                           0.90        42\n",
            "   macro avg       0.92      0.90      0.90        42\n",
            "weighted avg       0.92      0.90      0.90        42\n",
            "\n",
            "Confusion matrix::\n",
            " [[10  2  2]\n",
            " [ 0 14  0]\n",
            " [ 0  0 14]]\n",
            "Probability::\n",
            " [[1.  0.  0. ]\n",
            " [0.2 0.  0.8]\n",
            " [0.4 0.6 0. ]\n",
            " [0.  0.  1. ]\n",
            " [0.  1.  0. ]\n",
            " [0.  0.  1. ]\n",
            " [0.  1.  0. ]\n",
            " [0.6 0.4 0. ]\n",
            " [0.  1.  0. ]\n",
            " [0.  1.  0. ]\n",
            " [0.6 0.  0.4]\n",
            " [0.  0.  1. ]\n",
            " [0.  1.  0. ]\n",
            " [0.  1.  0. ]\n",
            " [0.  0.  1. ]\n",
            " [1.  0.  0. ]\n",
            " [0.  0.  1. ]\n",
            " [1.  0.  0. ]\n",
            " [0.  0.  1. ]\n",
            " [0.2 0.8 0. ]\n",
            " [0.8 0.  0.2]\n",
            " [0.  0.  1. ]\n",
            " [0.  1.  0. ]\n",
            " [0.2 0.  0.8]\n",
            " [0.  1.  0. ]\n",
            " [1.  0.  0. ]\n",
            " [0.2 0.  0.8]\n",
            " [0.6 0.  0.4]\n",
            " [0.  0.  1. ]\n",
            " [1.  0.  0. ]\n",
            " [0.  0.  1. ]\n",
            " [0.  1.  0. ]\n",
            " [1.  0.  0. ]\n",
            " [0.  0.  1. ]\n",
            " [0.  0.  1. ]\n",
            " [0.  1.  0. ]\n",
            " [0.  1.  0. ]\n",
            " [0.  1.  0. ]\n",
            " [0.  0.  1. ]\n",
            " [0.4 0.6 0. ]\n",
            " [0.2 0.  0.8]\n",
            " [0.  1.  0. ]]\n",
            "Score::\n",
            " 0.9047619047619048\n"
          ]
        }
      ]
    },
    {
      "cell_type": "markdown",
      "source": [
        "###Decision Tree model"
      ],
      "metadata": {
        "id": "1mLDI_jHSdaA"
      }
    },
    {
      "cell_type": "code",
      "source": [
        "# Train the model using Decision Tree model\n",
        "dt.fit(X_train, y_train)\n",
        "# Make predictions\n",
        "y_pred_dt = dt.predict(X_test)\n",
        "# Calculate evaluation metrics\n",
        "results.append({\n",
        "    \"Model\": \"Decision Tree model\",\n",
        "    \"Accuracy\": accuracy_score(y_test, y_pred_dt),\n",
        "    \"Precision\": precision_score(y_test, y_pred_dt, average=\"weighted\"),\n",
        "    \"Recall\": recall_score(y_test, y_pred_dt, average=\"weighted\"),\n",
        "    \"F1-Score\": f1_score(y_test, y_pred_dt, average=\"weighted\")\n",
        "})\n",
        "print(\"Decision Tree model::\")\n",
        "print(\"Classification report::\\n\",classification_report(y_test, y_pred_dt))\n",
        "print(\"Confusion matrix::\\n\",confusion_matrix(y_test, y_pred_dt))\n",
        "print(\"Probability::\\n\",dt.predict_proba(X_test))\n",
        "print(\"Score::\\n\",dt.score(X_test, y_test))"
      ],
      "metadata": {
        "colab": {
          "base_uri": "https://localhost:8080/"
        },
        "id": "gvF8q9lhSonj",
        "outputId": "7be7a36e-1dd2-40be-9c8e-4f808f8c252e"
      },
      "execution_count": 52,
      "outputs": [
        {
          "output_type": "stream",
          "name": "stdout",
          "text": [
            "Decision Tree model::\n",
            "Classification report::\n",
            "               precision    recall  f1-score   support\n",
            "\n",
            "           1       0.91      0.71      0.80        14\n",
            "           2       0.87      0.93      0.90        14\n",
            "           3       0.88      1.00      0.93        14\n",
            "\n",
            "    accuracy                           0.88        42\n",
            "   macro avg       0.88      0.88      0.88        42\n",
            "weighted avg       0.88      0.88      0.88        42\n",
            "\n",
            "Confusion matrix::\n",
            " [[10  2  2]\n",
            " [ 1 13  0]\n",
            " [ 0  0 14]]\n",
            "Probability::\n",
            " [[1. 0. 0.]\n",
            " [0. 0. 1.]\n",
            " [0. 1. 0.]\n",
            " [0. 0. 1.]\n",
            " [0. 1. 0.]\n",
            " [0. 0. 1.]\n",
            " [0. 1. 0.]\n",
            " [1. 0. 0.]\n",
            " [0. 1. 0.]\n",
            " [0. 1. 0.]\n",
            " [0. 0. 1.]\n",
            " [0. 0. 1.]\n",
            " [0. 1. 0.]\n",
            " [0. 1. 0.]\n",
            " [0. 0. 1.]\n",
            " [1. 0. 0.]\n",
            " [0. 0. 1.]\n",
            " [1. 0. 0.]\n",
            " [0. 0. 1.]\n",
            " [0. 1. 0.]\n",
            " [1. 0. 0.]\n",
            " [0. 0. 1.]\n",
            " [0. 1. 0.]\n",
            " [1. 0. 0.]\n",
            " [0. 1. 0.]\n",
            " [1. 0. 0.]\n",
            " [0. 0. 1.]\n",
            " [1. 0. 0.]\n",
            " [0. 0. 1.]\n",
            " [1. 0. 0.]\n",
            " [0. 0. 1.]\n",
            " [0. 1. 0.]\n",
            " [1. 0. 0.]\n",
            " [0. 0. 1.]\n",
            " [0. 0. 1.]\n",
            " [1. 0. 0.]\n",
            " [0. 1. 0.]\n",
            " [0. 1. 0.]\n",
            " [0. 0. 1.]\n",
            " [0. 1. 0.]\n",
            " [0. 0. 1.]\n",
            " [0. 1. 0.]]\n",
            "Score::\n",
            " 0.8809523809523809\n"
          ]
        }
      ]
    },
    {
      "cell_type": "markdown",
      "source": [
        "###Support Vector Classifier model"
      ],
      "metadata": {
        "id": "SpQmGCJcTLd1"
      }
    },
    {
      "cell_type": "code",
      "source": [
        "# Train the model using Support Vector Classifier model\n",
        "svc.fit(X_train, y_train)\n",
        "# Make predictions\n",
        "y_pred_svc = svc.predict(X_test)\n",
        "# Calculate evaluation metrics\n",
        "results.append({\n",
        "    \"Model\": \"Support Vector Classifier model\",\n",
        "    \"Accuracy\": accuracy_score(y_test, y_pred_svc),\n",
        "    \"Precision\": precision_score(y_test, y_pred_svc, average=\"weighted\"),\n",
        "    \"Recall\": recall_score(y_test, y_pred_svc, average=\"weighted\"),\n",
        "    \"F1-Score\": f1_score(y_test, y_pred_svc, average=\"weighted\")\n",
        "})\n",
        "print(\"Support Vector model::\")\n",
        "print(\"Classification report::\\n\",classification_report(y_test, y_pred_svc))\n",
        "print(\"Confusion matrix::\\n\",confusion_matrix(y_test, y_pred_svc))\n",
        "print(\"Score::\\n\",svc.score(X_test, y_test))"
      ],
      "metadata": {
        "colab": {
          "base_uri": "https://localhost:8080/"
        },
        "id": "8IjUtHmDTSms",
        "outputId": "0dfe6d8e-e001-42b1-b6d7-e9092ad42cdc"
      },
      "execution_count": 54,
      "outputs": [
        {
          "output_type": "stream",
          "name": "stdout",
          "text": [
            "Support Vector model::\n",
            "Classification report::\n",
            "               precision    recall  f1-score   support\n",
            "\n",
            "           1       1.00      0.64      0.78        14\n",
            "           2       0.88      1.00      0.93        14\n",
            "           3       0.82      1.00      0.90        14\n",
            "\n",
            "    accuracy                           0.88        42\n",
            "   macro avg       0.90      0.88      0.87        42\n",
            "weighted avg       0.90      0.88      0.87        42\n",
            "\n",
            "Confusion matrix::\n",
            " [[ 9  2  3]\n",
            " [ 0 14  0]\n",
            " [ 0  0 14]]\n",
            "Score::\n",
            " 0.8809523809523809\n"
          ]
        }
      ]
    },
    {
      "cell_type": "markdown",
      "source": [
        "##Summarizing Model Performance"
      ],
      "metadata": {
        "id": "S4sVIOB-UFnH"
      }
    },
    {
      "cell_type": "code",
      "source": [
        "results_df = pd.DataFrame(results)\n",
        "print(\"\\nSummary of Model Performance:\")\n",
        "print(results_df)"
      ],
      "metadata": {
        "colab": {
          "base_uri": "https://localhost:8080/"
        },
        "id": "XyhBPanNUFQd",
        "outputId": "8b94adf0-cebb-4bca-bea3-4b7193e89f08"
      },
      "execution_count": 55,
      "outputs": [
        {
          "output_type": "stream",
          "name": "stdout",
          "text": [
            "\n",
            "Summary of Model Performance:\n",
            "                             Model  Accuracy  Precision    Recall  F1-Score\n",
            "0                Linear Regression  0.880952   0.899510  0.880952  0.873056\n",
            "1                Naive Bayes model  0.880952   0.887064  0.880952  0.877266\n",
            "2                        KNN model  0.904762   0.916667  0.904762  0.900000\n",
            "3              Decision Tree model  0.880952   0.883586  0.880952  0.876628\n",
            "4  Support Vector Classifier model  0.880952   0.899510  0.880952  0.873056\n",
            "5  Support Vector Classifier model  0.880952   0.899510  0.880952  0.873056\n"
          ]
        }
      ]
    },
    {
      "cell_type": "markdown",
      "source": [
        "##Visualizing Model Performance"
      ],
      "metadata": {
        "id": "dKecc2NhUf1u"
      }
    },
    {
      "cell_type": "code",
      "source": [
        "# Plot model performance\n",
        "results_df.set_index('Model').plot(kind='bar', figsize=(10, 6))\n",
        "plt.title(\"Model Performance Metrics\")\n",
        "plt.ylabel(\"Score\")\n",
        "plt.xlabel(\"Model\")\n",
        "plt.show()"
      ],
      "metadata": {
        "colab": {
          "base_uri": "https://localhost:8080/",
          "height": 769
        },
        "id": "h_HC9crpUh87",
        "outputId": "e082e744-4bfc-4eb1-9784-10902281eda0"
      },
      "execution_count": 56,
      "outputs": [
        {
          "output_type": "display_data",
          "data": {
            "text/plain": [
              "<Figure size 1000x600 with 1 Axes>"
            ],
            "image/png": "[encoded data removed]"
          },
          "metadata": {}
        }
      ]
    }
  ]
}