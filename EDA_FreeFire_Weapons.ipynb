{
  "nbformat": 4,
  "nbformat_minor": 0,
  "metadata": {
    "colab": {
      "provenance": [],
      "authorship_tag": "ABX9TyOv+PmbIrbJYZhk34CQmM3m",
      "include_colab_link": true
    },
    "kernelspec": {
      "name": "python3",
      "display_name": "Python 3"
    },
    "language_info": {
      "name": "python"
    }
  },
  "cells": [
    {
      "cell_type": "markdown",
      "metadata": {
        "id": "view-in-github",
        "colab_type": "text"
      },
      "source": [
        "<a href=\"https://colab.research.google.com/github/K-R-Reddy/MachineLearning/blob/main/EDA_FreeFire_Weapons.ipynb\" target=\"_parent\"><img src=\"https://colab.research.google.com/assets/colab-badge.svg\" alt=\"Open In Colab\"/></a>"
      ]
    },
    {
      "cell_type": "markdown",
      "source": [
        "#FreeFire Weapon Dataset - Exploratory Data Analysis\n",
        "In this notebook we are going to perform EDA on the dataset \"FreeFire Weapons\".\n",
        "\n"
      ],
      "metadata": {
        "id": "Rx8hBjahIPlw"
      }
    },
    {
      "cell_type": "code",
      "source": [],
      "metadata": {
        "id": "agM3z7m7IOsu"
      },
      "execution_count": null,
      "outputs": []
    },
    {
      "cell_type": "code",
      "execution_count": null,
      "metadata": {
        "id": "QSQvkTRCH-Hb"
      },
      "outputs": [],
      "source": []
    }
  ]
}